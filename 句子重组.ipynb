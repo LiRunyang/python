{
 "cells": [
  {
   "cell_type": "code",
   "execution_count": 20,
   "metadata": {
    "scrolled": true
   },
   "outputs": [
    {
     "name": "stdout",
     "output_type": "stream",
     "text": [
      "May secure be happy all and beings;contented may be their  mind\n",
      "and happy beings all be secure May;may  be their mind contented\n",
      "secure be all and May beings happy;contented  mind their be may\n",
      "secure all May happy and be beings; contented their mind be may\n",
      "May all and happy be beings secure;mind contented  be their may\n",
      "all secure beings be and May happy;their be mind  may contented\n",
      "beings secure and be May happy all;contented be mind may  their\n",
      "beings all and May be secure happy;contented mind  be may their\n",
      "beings be and May all secure happy;be their mind may  contented\n",
      "all and happy beings be secure May;their be  contented mind may\n"
     ]
    }
   ],
   "source": [
    "sentence='May all beings be happy and secure; may their mind be contented'\n",
    "orc=sentence.split(\";\")\n",
    "import random\n",
    "for i in range(10):\n",
    "    list1=str(orc[0]).split(\" \")\n",
    "    random.shuffle(list1)\n",
    "    orc1=[]\n",
    "    for i in list1:\n",
    "        orc1+=[i]   \n",
    "    list2=str(orc[1]).split(\" \")\n",
    "    random.shuffle(list2)\n",
    "    orc2=[]\n",
    "    for j in list2:\n",
    "        orc2+=[j]   \n",
    "    print(\"{};{}\".format(\" \".join(orc1),\" \".join(orc2)))"
   ]
  },
  {
   "cell_type": "code",
   "execution_count": null,
   "metadata": {},
   "outputs": [],
   "source": []
  }
 ],
 "metadata": {
  "kernelspec": {
   "display_name": "Python 3",
   "language": "python",
   "name": "python3"
  },
  "language_info": {
   "codemirror_mode": {
    "name": "ipython",
    "version": 3
   },
   "file_extension": ".py",
   "mimetype": "text/x-python",
   "name": "python",
   "nbconvert_exporter": "python",
   "pygments_lexer": "ipython3",
   "version": "3.7.4"
  }
 },
 "nbformat": 4,
 "nbformat_minor": 2
}
