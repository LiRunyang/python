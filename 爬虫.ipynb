{
 "cells": [
  {
   "cell_type": "code",
   "execution_count": 2,
   "metadata": {},
   "outputs": [],
   "source": [
    "import requests\n",
    "def get_html(url):\n",
    "    try:\n",
    "        r=requests.get(url)\n",
    "        r.raise_for_status()\n",
    "        r.encoding=r.apparent_encoding\n",
    "        return r.text\n",
    "    except:\n",
    "        return '异常'\n",
    "if __name__=='__main__':\n",
    "    url='http://news.swufe.edu.cn'\n",
    "    f=open('aa01.txt','w',encoding='utf-8')\n",
    "    f.write(get_html(url))\n",
    "    f.close()"
   ]
  },
  {
   "cell_type": "code",
   "execution_count": 3,
   "metadata": {},
   "outputs": [
    {
     "name": "stdout",
     "output_type": "stream",
     "text": [
      "['<aa   href=>efghijkl</aa>', '<a   href=>efghijkl</a>', '<a   href=>efghijkl</a>']\n"
     ]
    }
   ],
   "source": [
    "def substr(s,t1):\n",
    "    L=[]\n",
    "    c=0\n",
    "    a=0\n",
    "    while a!=-1:\n",
    "        a=s.find(\"<\"+t1,c)\n",
    "        c=a+2\n",
    "        b=s.find(t1+\">\",c)+len(t1)+1\n",
    "        c=b\n",
    "        L.append(s[a:b])\n",
    "    return L[:-1]\n",
    "if __name__==\"__main__\":\n",
    "    print(substr(\"abc<aa   href=>efghijkl</aa>mnabc<a   href=>efghijkl</a>mnabc<a   href=>efghijkl</a>mn\",\"a\"))"
   ]
  },
  {
   "cell_type": "code",
   "execution_count": 4,
   "metadata": {},
   "outputs": [
    {
     "name": "stdout",
     "output_type": "stream",
     "text": [
      "200\n",
      "<a href=\"#\" title=\"\" onclick=\"_addDynClicks(&#34;wburl&#34;, 1400652839, 37188)\">ENGLISH</a>\n",
      "<a href=\"\"><img src=\"images/logo/newnewlogo.jpg\" alt=\"\" /></a>\n",
      "<a href=\"http://www.swufe.edu.cn/\" title=\"å­¦æ ¡é¦é¡µ\">å­¦æ ¡é¦é¡µ</a>\n",
      "<a href=\"zhxw.htm\" title=\"ç»¼åæ°é»\">ç»¼åæ°é»</a>\n",
      "<a href=\"yxdt.htm\" title=\"é¢ç³»å¨æ\">é¢ç³»å¨æ</a>\n",
      "<a href=\"ztxw.htm\" title=\"ä¸é¢æ°é»\">ä¸é¢æ°é»</a>\n",
      "<a href=\"mtxc.htm\" title=\"åªä½è¥¿è´¢\">åªä½è¥¿è´¢</a>\n",
      "<a href=\"http://swufe.cuepa.cn/\" title=\"è¥¿è´¢æ ¡æ¥\">è¥¿è´¢æ ¡æ¥</a>\n",
      "<a href=\"yxxc.htm\" title=\"å½±åè¥¿è´¢\">å½±åè¥¿è´¢</a>\n",
      "<a href=\"xcgb.htm\" title=\"è¥¿è´¢å¹¿æ­\">è¥¿è´¢å¹¿æ­</a>\n",
      "<a href=\"mtzx.htm\" title=\"åªä½ä¸­å¿\">åªä½ä¸­å¿</a>\n",
      "<a href=\"tsxc1.htm\" title=\"å¾è¯´è¥¿è´¢\">å¾è¯´è¥¿è´¢</a>\n",
      "<a><i class=\"thunews-angle-left\"></i></a>\n",
      "<a><i class=\"thunews-angle-right\"></i></a>\n",
      "<a href=\"info/1082/9606.htm\"><img src=\"/__local/E/DB/F0/0FDD2B864C0A7C7867A513D2615_F88E1F7E_2EFAF.jpg\" width=\"650\" height=\"325\" /></a>\n",
      "<a href=\"info/1082/9606.htm\" target=\"_blank\" title=\"æè²é¨å",
      "ç»ä¹¦è®°ãé¨é¿éå®çæ¥è¥¿åè´¢ç»å¤§å­¦è°ç æå¯¼  å¼ºè°æ°æ¶ä»£è¦åâæçµé­ãææ",
      "æãææ°åº¦ãæç¼å",
      "ãææ¿æ",
      "âçç¤¾ä¼ä¸»ä¹å¤§å­¦\" class=\"jiequ\">æè²é¨å",
      "ç»ä¹¦è®°ãé¨é¿éå®çæ¥è¥¿åè´¢ç»å¤§å­¦è°ç æå¯¼  å¼ºè°æ°æ¶ä»£è¦åâæçµé­ãææ",
      "æãææ°åº¦ãæç¼å",
      "ãææ¿æ",
      "âçç¤¾ä¼ä¸»ä¹å¤§å­¦</a>\n",
      "<a href=\"info/1082/11946.htm\"><img src=\"/__local/7/CD/84/3442BADD94CD7896682B1595331_6CE0792E_20D07.jpg\" width=\"650\" height=\"325\" /></a>\n",
      "<a href=\"info/1082/11946.htm\" target=\"_blank\" title=\"ææ ¡åå£«åç§ç æµå¨ç«é¡ºå©éè¿2020å¹´åº¦åå£«åç»¼åè¯ä¼°\" class=\"jiequ\">ææ ¡åå£«åç§ç æµå¨ç«é¡ºå©éè¿2020å¹´åº¦åå£«åç»¼åè¯ä¼°</a>\n",
      "<a href=\"info/1082/11945.htm\"><img src=\"/__local/A/62/FF/D6D1D1F1E81DA6716ABDFE14D31_89D3440E_102CA.jpg\" width=\"650\" height=\"325\" /></a>\n",
      "<a href=\"info/1082/11945.htm\" target=\"_blank\" title=\"æ¶è´¹ç»æµå­¦ä¼è£è·å½å®¶ç¤¾ç§åºéä¼ç§ç¤¾ç§å­¦æ¯ç¤¾å¢éç¹å¥å±è¡¥å©\" class=\"jiequ\">æ¶è´¹ç»æµå­¦ä¼è£è·å½å®¶ç¤¾ç§åºéä¼ç§ç¤¾ç§å­¦æ¯ç¤¾å¢éç¹å¥å±è¡¥å©</a>\n",
      "<a href=\"info/1082/11943.htm\"><img src=\"/__local/9/2F/10/9DA060BE9E0354BE955AB7803CD_455F3475_11BAB.png\" width=\"650\" height=\"325\" /></a>\n",
      "<a href=\"info/1082/11943.htm\" target=\"_blank\" title=\"å",
      "å§ä¹¦è®°èµµå¾·æ­¦ãæ ¡é¿åå¿ä¸è¡èµ°è®¿æ",
      "°é®ç«æ",
      "é²æ§ä¸çº¿åå·¥\" class=\"jiequ\">å",
      "å§ä¹¦è®°èµµå¾·æ­¦ãæ ¡é¿åå¿ä¸è¡èµ°è®¿æ",
      "°é®ç«æ",
      "é²æ§ä¸çº¿åå·¥</a>\n",
      "<a href=\"info/1082/11941.htm\"><img src=\"https://vsb.swufe.edu.cn/_vsl/078D4FFDF963019C137FBE38C6C24A8A/441DE857/18B5F\" width=\"650\" height=\"325\" /></a>\n",
      "<a href=\"info/1082/11941.htm\" target=\"_blank\" title=\"è´¯å½»è½å®å",
      "¨å½ç ç©¶çæè²ä¼è®®ç²¾ç¥ï¼å",
      "¨é¢æ¨è¿æ°æ¶ä»£å­¦æ ¡ç ç©¶çæè²æ¹é©åå±ââå­¦æ ¡å¬å¼ç ç©¶çæè²ä¼è®®\" class=\"jiequ\">è´¯å½»è½å®å",
      "¨å½ç ç©¶çæè²ä¼è®®ç²¾ç¥ï¼å",
      "¨é¢æ¨è¿æ°æ¶ä»£å­¦æ ¡ç ç©¶çæè²æ¹é©åå±ââå­¦æ ¡å¬å¼ç ç©¶çæè²ä¼è®®</a>\n",
      "<a href=\"info/1082/11939.htm\"><img src=\"/__local/7/56/C5/B52AED87218527FE0C9EBD7B62E_C19AE513_23DA1.jpg\" width=\"650\" height=\"325\" /></a>\n",
      "<a href=\"info/1082/11939.htm\" target=\"_blank\" title=\"æ ¡é¢å¯¼çéæ·±å",
      "¥åå±±å·æ¨å¨âå½è·¯ç¸ä¼´âç¤¾åºæ²»çå·¥ä½\" class=\"jiequ\">æ ¡é¢å¯¼çéæ·±å",
      "¥åå±±å·æ¨å¨âå½è·¯ç¸ä¼´âç¤¾åºæ²»çå·¥ä½</a>\n",
      "<a href=\"zhxw.htm\" target=\"\">æ´å¤>></span></a>\n",
      "<a href=\"info/1082/9606.htm\" target=\"_blank\"><img src=\"/__local/E/DB/F0/0FDD2B864C0A7C7867A513D2615_F88E1F7E_2EFAF.jpg\" width=\"200px\" height=\"100px\"></a>\n",
      "<a href=\"info/1082/9606.htm\" target=\"_blank\" title=\"æè²é¨å",
      "ç»ä¹¦è®°ãé¨é¿éå®çæ¥è¥¿åè´¢ç»å¤§å­¦è°ç æå¯¼  å¼ºè°æ°æ¶ä»£è¦åâæçµé­ãææ",
      "æãææ°åº¦ãæç¼å",
      "ãææ¿æ",
      "âçç¤¾ä¼ä¸»ä¹å¤§å­¦\">æè²é¨å",
      "ç»ä¹¦è®°ãé¨é¿éå®çæ¥è¥¿åè´¢ç»å¤§å­¦è°ç æå¯¼  å¼ºè°æ°æ¶ä»£è¦åâæçµé­ãææ",
      "æãææ°åº¦ãæç¼å",
      "ãææ¿æ",
      "âçç¤¾ä¼ä¸»ä¹å¤§å­¦</a>\n",
      "<a href=\"info/1082/11946.htm\" target=\"_blank\"><img src=\"/__local/7/CD/84/3442BADD94CD7896682B1595331_6CE0792E_20D07.jpg\" width=\"200px\" height=\"100px\"></a>\n",
      "<a href=\"info/1082/11946.htm\" target=\"_blank\" title=\"ææ ¡åå£«åç§ç æµå¨ç«é¡ºå©éè¿2020å¹´åº¦åå£«åç»¼åè¯ä¼°\">ææ ¡åå£«åç§ç æµå¨ç«é¡ºå©éè¿2020å¹´åº¦åå£«åç»¼åè¯ä¼°</a>\n",
      "<a href=\"info/1082/11945.htm\" target=\"_blank\"><img src=\"/__local/A/62/FF/D6D1D1F1E81DA6716ABDFE14D31_89D3440E_102CA.jpg\" width=\"200px\" height=\"100px\"></a>\n",
      "<a href=\"info/1082/11945.htm\" target=\"_blank\" title=\"æ¶è´¹ç»æµå­¦ä¼è£è·å½å®¶ç¤¾ç§åºéä¼ç§ç¤¾ç§å­¦æ¯ç¤¾å¢éç¹å¥å±è¡¥å©\">æ¶è´¹ç»æµå­¦ä¼è£è·å½å®¶ç¤¾ç§åºéä¼ç§ç¤¾ç§å­¦æ¯ç¤¾å¢éç¹å¥å±è¡¥å©</a>\n",
      "<a href=\"info/1082/11943.htm\" target=\"_blank\"><img src=\"/__local/9/2F/10/9DA060BE9E0354BE955AB7803CD_455F3475_11BAB.png\" width=\"200px\" height=\"100px\"></a>\n",
      "<a href=\"info/1082/11943.htm\" target=\"_blank\" title=\"å",
      "å§ä¹¦è®°èµµå¾·æ­¦ãæ ¡é¿åå¿ä¸è¡èµ°è®¿æ",
      "°é®ç«æ",
      "é²æ§ä¸çº¿åå·¥\">å",
      "å§ä¹¦è®°èµµå¾·æ­¦ãæ ¡é¿åå¿ä¸è¡èµ°è®¿æ",
      "°é®ç«æ",
      "é²æ§ä¸çº¿åå·¥</a>\n",
      "<a href=\"info/1082/11941.htm\" target=\"_blank\"><img src=\"https://vsb.swufe.edu.cn/_vsl/078D4FFDF963019C137FBE38C6C24A8A/441DE857/18B5F\" width=\"200px\" height=\"100px\"></a>\n",
      "<a href=\"info/1082/11941.htm\" target=\"_blank\" title=\"è´¯å½»è½å®å",
      "¨å½ç ç©¶çæè²ä¼è®®ç²¾ç¥ï¼å",
      "¨é¢æ¨è¿æ°æ¶ä»£å­¦æ ¡ç ç©¶çæè²æ¹é©åå±ââå­¦æ ¡å¬å¼ç ç©¶çæè²ä¼è®®\">è´¯å½»è½å®å",
      "¨å½ç ç©¶çæè²ä¼è®®ç²¾ç¥ï¼å",
      "¨é¢æ¨è¿æ°æ¶ä»£å­¦æ ¡ç ç©¶çæè²æ¹é©åå±ââå­¦æ ¡å¬å¼ç ç©¶çæè²ä¼è®®</a>\n",
      "<a href=\"info/1082/11939.htm\" target=\"_blank\"><img src=\"/__local/7/56/C5/B52AED87218527FE0C9EBD7B62E_C19AE513_23DA1.jpg\" width=\"200px\" height=\"100px\"></a>\n",
      "<a href=\"info/1082/11939.htm\" target=\"_blank\" title=\"æ ¡é¢å¯¼çéæ·±å",
      "¥åå±±å·æ¨å¨âå½è·¯ç¸ä¼´âç¤¾åºæ²»çå·¥ä½\">æ ¡é¢å¯¼çéæ·±å",
      "¥åå±±å·æ¨å¨âå½è·¯ç¸ä¼´âç¤¾åºæ²»çå·¥ä½</a>\n",
      "<a href=\"info/1082/11936.htm\" target=\"_blank\"><img src=\"/__local/A/8C/D2/80D843284F3564240C5E5AB8890_F84388CE_16047.jpg\" width=\"200px\" height=\"100px\"></a>\n",
      "<a href=\"info/1082/11936.htm\" target=\"_blank\" title=\"æè²é¨å",
      "¨å½é«æ ¡å¸å¾·å¸é£å»ºè®¾å·¥ä½ç»éªäº¤æµè§é¢ä¼è®®å¬å¼ ææ ¡è®¾åä¼åº\">æè²é¨å",
      "¨å½é«æ ¡å¸å¾·å¸é£å»ºè®¾å·¥ä½ç»éªäº¤æµè§é¢ä¼è®®å¬å¼ ææ ¡è®¾åä¼åº</a>\n",
      "<a href=\"info/1082/11935.htm\" target=\"_blank\"><img src=\"/__local/3/F7/8F/65A629E526E9AB7EC72B87B27B3_14B26A04_14ED0.jpg\" width=\"200px\" height=\"100px\"></a>\n",
      "<a href=\"info/1082/11935.htm\" target=\"_blank\" title=\"å³å¨ç»æµå­¦ä¼å°±ä¸ä¿è¿ä¸ä¸å§åä¼2020å¹´ä¼ä¸¾è¡\">å³å¨ç»æµå­¦ä¼å°±ä¸ä¿è¿ä¸ä¸å§åä¼2020å¹´ä¼ä¸¾è¡</a>\n",
      "<a href=\"info/1082/11934.htm\" target=\"_blank\"><img src=\"/__local/1/90/02/9E0CBA12F6447954DAC63246899_CDCB8705_18959.jpg\" width=\"200px\" height=\"100px\"></a>\n",
      "<a href=\"info/1082/11934.htm\" target=\"_blank\" title=\"æ¶è´¹ç»æµå­¦ä¼åäº¬ç è®¨ä¼ä¸¾è¡\">æ¶è´¹ç»æµå­¦ä¼åäº¬ç è®¨ä¼ä¸¾è¡</a>\n",
      "<a href=\"info/1082/11940.htm\" target=\"_blank\"><img src=\"/__local/D/29/01/92FAB918D202F59644C0EF7AF14_D1DEED39_18F2A.jpg\" width=\"200px\" height=\"100px\"></a>\n",
      "<a href=\"info/1082/11940.htm\" target=\"_blank\" title=\"ç¬¬23å±CUBAä¸­å½å¤§å­¦çç¯®çä¸çº§èèµï¼åå·èµåºï¼ç·å­æ¯èµåæ»¡è½å¹ï¼ææ ¡ç·ç¯®åå¤ºæ¡å \">ç¬¬23å±CUBAä¸­å½å¤§å­¦çç¯®çä¸çº§èèµï¼åå·èµåºï¼ç·å­æ¯èµåæ»¡è½å¹ï¼ææ ¡ç·ç¯®åå¤ºæ¡å </a>\n",
      "<a href=\"info/1082/11930.htm\" target=\"_blank\"><img src=\"/__local/A/62/FF/D6D1D1F1E81DA6716ABDFE14D31_89D3440E_102CA.jpg\" width=\"200px\" height=\"100px\"></a>\n",
      "<a href=\"info/1082/11930.htm\" target=\"_blank\" title=\"ææ ¡å­¦å­å¨2020å¹´å",
      "¨å½å¤§å­¦çæ°å­¦å»ºæ¨¡ç«èµåå¾ä½³ç»©\">ææ ¡å­¦å­å¨2020å¹´å",
      "¨å½å¤§å­¦çæ°å­¦å»ºæ¨¡ç«èµåå¾ä½³ç»©</a>\n",
      "<a href=\"info/1082/11932.htm\" target=\"_blank\"><img src=\"/__local/C/79/74/E2257DD558E7246FBB4DBE64237_66966E7D_131EC.jpg\" width=\"200px\" height=\"100px\"></a>\n",
      "<a href=\"info/1082/11932.htm\" target=\"_blank\" title=\"ãFinancial Innovationï¼éèåæ°ï¼ãå",
      "¥éãFMSç®¡çç§å­¦é«è´¨éæåæ¨èåè¡¨ã\">ãFinancial Innovationï¼éèåæ°ï¼ãå",
      "¥éãFMSç®¡çç§å­¦é«è´¨éæåæ¨èåè¡¨ã</a>\n",
      "<a href=\"info/1082/9606.htm\" target=\"_blank\" title=\"æè²é¨å",
      "ç»ä¹¦è®°ãé¨é¿éå®çæ¥è¥¿åè´¢ç»å¤§å­¦è°ç æå¯¼  å¼ºè°æ°æ¶ä»£è¦åâæçµé­ãææ",
      "æãææ°åº¦ãæç¼å",
      "ãææ¿æ",
      "âçç¤¾ä¼ä¸»ä¹å¤§å­¦\" class=\"jiequ\">æè²é¨å",
      "ç»ä¹¦è®°ãé¨é¿éå®çæ¥è¥¿åè´¢ç»å¤§å­¦è°ç æå¯¼  å¼ºè°æ°æ¶ä»£è¦åâæçµé­ãææ",
      "æãææ°åº¦ãæç¼å",
      "ãææ¿æ",
      "âçç¤¾ä¼ä¸»ä¹å¤§å­¦</a>\n",
      "<a href=\"info/1082/11946.htm\" target=\"_blank\" title=\"ææ ¡åå£«åç§ç æµå¨ç«é¡ºå©éè¿2020å¹´åº¦åå£«åç»¼åè¯ä¼°\" class=\"jiequ\">ææ ¡åå£«åç§ç æµå¨ç«é¡ºå©éè¿2020å¹´åº¦åå£«åç»¼åè¯ä¼°</a>\n",
      "<a href=\"info/1082/11945.htm\" target=\"_blank\" title=\"æ¶è´¹ç»æµå­¦ä¼è£è·å½å®¶ç¤¾ç§åºéä¼ç§ç¤¾ç§å­¦æ¯ç¤¾å¢éç¹å¥å±è¡¥å©\" class=\"jiequ\">æ¶è´¹ç»æµå­¦ä¼è£è·å½å®¶ç¤¾ç§åºéä¼ç§ç¤¾ç§å­¦æ¯ç¤¾å¢éç¹å¥å±è¡¥å©</a>\n",
      "<a href=\"info/1082/11943.htm\" target=\"_blank\" title=\"å",
      "å§ä¹¦è®°èµµå¾·æ­¦ãæ ¡é¿åå¿ä¸è¡èµ°è®¿æ",
      "°é®ç«æ",
      "é²æ§ä¸çº¿åå·¥\" class=\"jiequ\">å",
      "å§ä¹¦è®°èµµå¾·æ­¦ãæ ¡é¿åå¿ä¸è¡èµ°è®¿æ",
      "°é®ç«æ",
      "é²æ§ä¸çº¿åå·¥</a>\n",
      "<a href=\"info/1082/11941.htm\" target=\"_blank\" title=\"è´¯å½»è½å®å",
      "¨å½ç ç©¶çæè²ä¼è®®ç²¾ç¥ï¼å",
      "¨é¢æ¨è¿æ°æ¶ä»£å­¦æ ¡ç ç©¶çæè²æ¹é©åå±ââå­¦æ ¡å¬å¼ç ç©¶çæè²ä¼è®®\" class=\"jiequ\">è´¯å½»è½å®å",
      "¨å½ç ç©¶çæè²ä¼è®®ç²¾ç¥ï¼å",
      "¨é¢æ¨è¿æ°æ¶ä»£å­¦æ ¡ç ç©¶çæè²æ¹é©åå±ââå­¦æ ¡å¬å¼ç ç©¶çæè²ä¼è®®</a>\n",
      "<a href=\"info/1082/11939.htm\" target=\"_blank\" title=\"æ ¡é¢å¯¼çéæ·±å",
      "¥åå±±å·æ¨å¨âå½è·¯ç¸ä¼´âç¤¾åºæ²»çå·¥ä½\" class=\"jiequ\">æ ¡é¢å¯¼çéæ·±å",
      "¥åå±±å·æ¨å¨âå½è·¯ç¸ä¼´âç¤¾åºæ²»çå·¥ä½</a>\n",
      "<a href=\"index/xcxw.htm\">æ´å¤ <i class=\"thunews-angle-right\"></i></a>\n",
      "<a href=\"info/1074/11942.htm\" target=\"_blank\" title=\"ææ ¡åå¡è±è¯­å®è·µå¤§èµä»£è¡¨éè£è·å",
      "¨å½ä¸ç­å¥\" class=\"jiequ\">ææ ¡åå¡è±è¯­å®è·µå¤§èµä»£è¡¨éè£è·å",
      "¨å½ä¸ç­å¥</a>\n",
      "<a href=\"info/1074/11938.htm\" target=\"_blank\" title=\"ç»æµæ°å­¦å­¦é¢å¬å¼ç ç©¶çå­¦ä¹ åº§è°ä¼\" class=\"jiequ\">ç»æµæ°å­¦å­¦é¢å¬å¼ç ç©¶çå­¦ä¹ åº§è°ä¼</a>\n",
      "<a href=\"info/1074/11918.htm\" target=\"_blank\" title=\"ä¼è®¡å­¦é¢ä¸¾è¡å",
      "é¨ç è®¨ä¼å©åç§å­¦ç ç©¶\" class=\"jiequ\">ä¼è®¡å­¦é¢ä¸¾è¡å",
      "é¨ç è®¨ä¼å©åç§å­¦ç ç©¶</a>\n",
      "<a href=\"info/1074/11937.htm\" target=\"_blank\" title=\"é©¬å",
      "æä¸»ä¹å­¦é¢å¬å¼âååäºâè§åå·¥ä½è°ç åº§è°ä¼\" class=\"jiequ\">é©¬å",
      "æä¸»ä¹å­¦é¢å¬å¼âååäºâè§åå·¥ä½è°ç åº§è°ä¼</a>\n",
      "<a href=\"info/1074/11915.htm\" target=\"_blank\" title=\"ç»æµæ°å­¦å­¦é¢é¡ºå©ä¸¾è¡ç¬¬äºå±ææ¸ç ç©¶çæ ¡åäº¤æµä¼\" class=\"jiequ\">ç»æµæ°å­¦å­¦é¢é¡ºå©ä¸¾è¡ç¬¬äºå±ææ¸ç ç©¶çæ ¡åäº¤æµä¼</a>\n",
      "<a href=\"info/1074/11914.htm\" target=\"_blank\" title=\"ææ ¡å¥³å­ç¯®çéå¨ç¬¬23å±ä¸­å½å¤§å­¦çç¯®çä¸çº§èèµï¼åå·èµåºï¼æ¯èµä¸­è£è·ä½³ç»©\" class=\"jiequ\">ææ ¡å¥³å­ç¯®çéå¨ç¬¬23å±ä¸­å½å¤§å­¦çç¯®çä¸çº§èèµï¼åå·èµåºï¼æ¯èµä¸­è£è·ä½³ç»©</a>\n",
      "<a href=\"yxdt.htm\">æ´å¤ <i class=\"thunews-angle-right\"></i></a>\n",
      "<a href=\"http://swufe.cuepa.cn/oldrelease.php\" target=\"\">æ´å¤>></a>\n",
      "<a href=\"yxxc.htm#\">æ´å¤>></a>\n",
      "<a href=\"xcrw.htm\">æ´å¤>></a>\n",
      "<a href=\"#\">æ´å¤>></a>\n",
      "<a href=\"#\">\r\n",
      "                    <img src=\"images/test3103.jpg\">\r\n",
      "                    <h2>åæ¥å",
      "å»ºå¼é¢ä½ç¨ ååæ¨è¿ä¸æµå»ºè®¾</h2>\r\n",
      "                    <h3>âââéèå­¦é¢åå",
      "å§æå¸ç¬¬äºå",
      "æ¯é¨å»ºè®¾çºªå®</h3>\r\n",
      "                </a>\n",
      "<a href=\"https://www.xuexi.cn/cc72a0454287bdedb7e2c156db55e818/71eb7214c6c0c1f5e6ec6e29564decb4.html\" title=\"\" target=\"_blank\">\r\n",
      "                            <img src=\"http://www.swufe.edu.cn/images/zt/ZT_01.jpg\">\r\n",
      "                        </a>\n",
      "<a href=\"http://www.moe.gov.cn/jyb_xwfb/xw_zt/moe_357/s7865/s8417/\" title=\"\" target=\"_blank\">\r\n",
      "                            <img src=\"http://www.swufe.edu.cn/images/zt/ZT_02.jpg\">\r\n",
      "                        </a>\n",
      "<a href=\"http://bwcx.swufe.edu.cn\" title=\"\" target=\"_blank\">\r\n",
      "                            <img src=\"http://www.swufe.edu.cn/images//zt/ZT_03.jpg\">\r\n",
      "                        </a>\n",
      "<a href=\"http://ddh13.swufe.edu.cn/\" title=\"\" target=\"_blank\">\r\n",
      "                            <img src=\"http://www.swufe.edu.cn/images/zt/ZT_04.jpg\">\r\n",
      "                        </a>\n",
      "<a href=\"mtxc.htm#\">æ´å¤>></a>\n",
      "<a href=\"tsxc1.htm\" style=\"top:10px; left:120px;\">æ´å¤>></a>\n",
      "<a href=\"mailto:cxb@swufe.edu.cn\" style=\"background:url(images/tg_11.png) no-repeat left center;display:block;padding-left:20px; width:80px; height:20px;color:#cceaff; font-size: 16px;color:#0071bc; line-height:22px; position:absolute;right:0;\">å¨çº¿æç¨¿</a>\n",
      "<a href=\"http://weibo.com/swufe1925\" title=\"\" onclick=\"_addDynClicks(&#34;wburl&#34;, 1400652839, 37194)\" style=\"background: url(images/end_ico01.png) center no-repeat\"></a>\n",
      "<a href=\"http://www.swufe.edu.cn/4692.html\" title=\"\" onclick=\"_addDynClicks(&#34;wburl&#34;, 1400652839, 37195)\" style=\"background: url(images/end_ico02.png) center no-repeat\"></a>\n",
      "<a href=\"mailto:minyiqiao@swufe.edu.cn\" title=\"\" onclick=\"_addDynClicks(&#34;wburl&#34;, 1400652839, 37196)\" style=\"background: url(images/end_ico03.png) center no-repeat\"></a>\n",
      "<a href=\"mailto:mishuke@swufe.edu.cn\" title=\"\" onclick=\"_addDynClicks(&#34;wburl&#34;, 1400652839, 37197)\" style=\"background: url(images/end_ico04.png) center no-repeat\"></a>\n",
      "<a href=\"#\" title=\"\" onclick=\"_addDynClicks(&#34;wburl&#34;, 1400652839, 37198)\" style=\"background: url(images/end_ico05.png) center no-repeat\"></a>\n"
     ]
    }
   ],
   "source": [
    "import requests\n",
    "import mm\n",
    "r=requests.get('http://news.swufe.edu.cn')\n",
    "print(r.status_code)\n",
    "s=r.text\n",
    "L=mm.substr(s,'a')\n",
    "for i in L:\n",
    "    print(i)"
   ]
  },
  {
   "cell_type": "code",
   "execution_count": 7,
   "metadata": {},
   "outputs": [
    {
     "name": "stdout",
     "output_type": "stream",
     "text": [
      "200\n"
     ]
    }
   ],
   "source": [
    "import requests\n",
    "import mm\n",
    "f=open('aa03.txt','w')\n",
    "r=requests.get('http://news.swufe.edu.cn')\n",
    "print(r.status_code)\n",
    "s=r.text\n",
    "L1=mm.substr(s,'a')\n",
    "L2=[]\n",
    "for i in L1:\n",
    "    if i[:13]=='<a href=\\'info' and 'img' not in i:\n",
    "        L2.append(i.split()[1])\n",
    "for i in L2:\n",
    "    f.write('http://news.swufe.edu.cn'+i[6:-1]+'\\n')\n",
    "f.close()"
   ]
  },
  {
   "cell_type": "code",
   "execution_count": 13,
   "metadata": {},
   "outputs": [
    {
     "ename": "TypeError",
     "evalue": "'_io.TextIOWrapper' object is not subscriptable",
     "output_type": "error",
     "traceback": [
      "\u001b[1;31m---------------------------------------------------------------------------\u001b[0m",
      "\u001b[1;31mTypeError\u001b[0m                                 Traceback (most recent call last)",
      "\u001b[1;32m<ipython-input-13-441e82c718c4>\u001b[0m in \u001b[0;36m<module>\u001b[1;34m\u001b[0m\n\u001b[0;32m      2\u001b[0m \u001b[0mk\u001b[0m\u001b[1;33m=\u001b[0m\u001b[0mopen\u001b[0m\u001b[1;33m(\u001b[0m\u001b[1;34m'k.txt'\u001b[0m\u001b[1;33m,\u001b[0m\u001b[1;34m'w'\u001b[0m\u001b[1;33m,\u001b[0m\u001b[0mencoding\u001b[0m\u001b[1;33m=\u001b[0m\u001b[1;34m'utf-8'\u001b[0m\u001b[1;33m)\u001b[0m\u001b[1;33m\u001b[0m\u001b[1;33m\u001b[0m\u001b[0m\n\u001b[0;32m      3\u001b[0m \u001b[0mf\u001b[0m\u001b[1;33m=\u001b[0m\u001b[0mopen\u001b[0m\u001b[1;33m(\u001b[0m\u001b[1;34m'aa03.txt'\u001b[0m\u001b[1;33m,\u001b[0m\u001b[1;34m'w'\u001b[0m\u001b[1;33m,\u001b[0m\u001b[0mencoding\u001b[0m\u001b[1;33m=\u001b[0m\u001b[1;34m'utf-8'\u001b[0m\u001b[1;33m)\u001b[0m\u001b[1;33m\u001b[0m\u001b[1;33m\u001b[0m\u001b[0m\n\u001b[1;32m----> 4\u001b[1;33m \u001b[1;32mfor\u001b[0m \u001b[0mi\u001b[0m \u001b[1;32min\u001b[0m \u001b[0mf\u001b[0m\u001b[1;33m[\u001b[0m\u001b[1;33m:\u001b[0m\u001b[1;33m-\u001b[0m\u001b[1;36m1\u001b[0m\u001b[1;33m]\u001b[0m\u001b[1;33m:\u001b[0m\u001b[1;33m\u001b[0m\u001b[1;33m\u001b[0m\u001b[0m\n\u001b[0m\u001b[0;32m      5\u001b[0m     \u001b[0mprint\u001b[0m\u001b[1;33m(\u001b[0m\u001b[0mi\u001b[0m\u001b[1;33m)\u001b[0m\u001b[1;33m\u001b[0m\u001b[1;33m\u001b[0m\u001b[0m\n\u001b[0;32m      6\u001b[0m     \u001b[0mr\u001b[0m\u001b[1;33m=\u001b[0m\u001b[0mrequests\u001b[0m\u001b[1;33m.\u001b[0m\u001b[0mget\u001b[0m\u001b[1;33m(\u001b[0m\u001b[0mi\u001b[0m\u001b[1;33m)\u001b[0m\u001b[1;33m\u001b[0m\u001b[1;33m\u001b[0m\u001b[0m\n",
      "\u001b[1;31mTypeError\u001b[0m: '_io.TextIOWrapper' object is not subscriptable"
     ]
    }
   ],
   "source": [
    "import requests\n",
    "k=open('k.txt','w',encoding='utf-8')\n",
    "f=open('aa03.txt','w',encoding='utf-8')\n",
    "for i in f[:-1]:\n",
    "    print(i)\n",
    "    r=requests.get(i)\n",
    "    r.encoding='utf-8'\n",
    "    print(r.status_code)\n",
    "    k.write(r.text)\n",
    "        #if i<=10:\n",
    "            #k.write(get_html(i))\n",
    "            #print(get_html(i))\n",
    "k.close()"
   ]
  },
  {
   "cell_type": "code",
   "execution_count": null,
   "metadata": {},
   "outputs": [],
   "source": []
  }
 ],
 "metadata": {
  "kernelspec": {
   "display_name": "Python 3",
   "language": "python",
   "name": "python3"
  },
  "language_info": {
   "codemirror_mode": {
    "name": "ipython",
    "version": 3
   },
   "file_extension": ".py",
   "mimetype": "text/x-python",
   "name": "python",
   "nbconvert_exporter": "python",
   "pygments_lexer": "ipython3",
   "version": "3.7.4"
  }
 },
 "nbformat": 4,
 "nbformat_minor": 2
}
