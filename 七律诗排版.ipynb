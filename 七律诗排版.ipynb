{
 "cells": [
  {
   "cell_type": "code",
   "execution_count": 6,
   "metadata": {
    "scrolled": true
   },
   "outputs": [],
   "source": [
    "with open('a.txt') as lt:\n",
    "    poem=lt.readlines()\n",
    "    poem1=[]\n",
    "    poem2=[]\n",
    "    poem3=[]\n",
    "    for i in poem:\n",
    "        poem1+=[i.replace(\"\\n\",\"\")]\n",
    "    for j in poem1:\n",
    "        poem2+=[j.replace(\"。\",\"。\\n\")]\n",
    "    for k in poem2:\n",
    "        poem3+=[k.replace(\"，\",\"  \")]\n",
    "    str=\"\";\n",
    "    a=str.join(poem2)\n",
    "    with open(\"b.txt\",\"w\") as f:\n",
    "        f.write(a)"
   ]
  },
  {
   "cell_type": "code",
   "execution_count": null,
   "metadata": {},
   "outputs": [],
   "source": []
  },
  {
   "cell_type": "code",
   "execution_count": null,
   "metadata": {},
   "outputs": [],
   "source": []
  }
 ],
 "metadata": {
  "kernelspec": {
   "display_name": "Python 3",
   "language": "python",
   "name": "python3"
  },
  "language_info": {
   "codemirror_mode": {
    "name": "ipython",
    "version": 3
   },
   "file_extension": ".py",
   "mimetype": "text/x-python",
   "name": "python",
   "nbconvert_exporter": "python",
   "pygments_lexer": "ipython3",
   "version": "3.7.4"
  }
 },
 "nbformat": 4,
 "nbformat_minor": 2
}
