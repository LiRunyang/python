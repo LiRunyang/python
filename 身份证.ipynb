{
 "cells": [
  {
   "cell_type": "code",
   "execution_count": 2,
   "metadata": {},
   "outputs": [
    {
     "name": "stdout",
     "output_type": "stream",
     "text": [
      "340102200106144030\n",
      "男\n",
      "2001年06月14日\n",
      "340102200106******\n"
     ]
    }
   ],
   "source": [
    "a=input()\n",
    "sex=a[-2]\n",
    "b=float(sex)\n",
    "if b%2==1:\n",
    "    print(\"男\")\n",
    "else:\n",
    "    print(\"女\")\n",
    "print(\"{}年{}月{}日\".format(a[6:10:1],a[10:12:1],a[12:14:1]))\n",
    "print(\"{}{}\".format(a[0:12],\"******\"))"
   ]
  },
  {
   "cell_type": "code",
   "execution_count": null,
   "metadata": {},
   "outputs": [],
   "source": []
  }
 ],
 "metadata": {
  "kernelspec": {
   "display_name": "Python 3",
   "language": "python",
   "name": "python3"
  },
  "language_info": {
   "codemirror_mode": {
    "name": "ipython",
    "version": 3
   },
   "file_extension": ".py",
   "mimetype": "text/x-python",
   "name": "python",
   "nbconvert_exporter": "python",
   "pygments_lexer": "ipython3",
   "version": "3.7.4"
  }
 },
 "nbformat": 4,
 "nbformat_minor": 2
}
