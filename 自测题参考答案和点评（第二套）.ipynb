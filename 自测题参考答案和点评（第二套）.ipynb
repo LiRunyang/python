{
 "cells": [
  {
   "cell_type": "markdown",
   "metadata": {},
   "source": [
    "# 自测题参考答案和点评（第二套）"
   ]
  },
  {
   "cell_type": "markdown",
   "metadata": {},
   "source": [
    "* 一、单项选择题(每题1分，共10分):ACACA DCCDA"
   ]
  },
  {
   "cell_type": "markdown",
   "metadata": {},
   "source": [
    "第1小题.教材P38，Python语言允许采用大小写字母、数字、下划线和汉字等字符及其组合给变量命名，但是变量名的首字符不能是数字，中间不能有空格。"
   ]
  },
  {
   "cell_type": "markdown",
   "metadata": {},
   "source": [
    "第4小题.当循环中止时，num的值等于9。所以，这段代码的功能是程序判断随机数是否等于目标值9。"
   ]
  },
  {
   "cell_type": "markdown",
   "metadata": {},
   "source": [
    "第6小题.见教材P130第5.2.4小节“函数对变量的作用”。该小节的基本概念比较多，希同学们注意。"
   ]
  },
  {
   "cell_type": "markdown",
   "metadata": {},
   "source": [
    "第8小题.字符串大小的比较，实际上比较的是其Unicode编码值；若单词的第一字母相同，则比较第二个字母，依此类推。所以，s=[\"apple\",\"orange\",\"pear\",\"melon\",\"pineapple\"]中，最小的是apple，最大的是pineapple。"
   ]
  },
  {
   "cell_type": "markdown",
   "metadata": {},
   "source": [
    "第10小题. a是全局变量，print(a)的结果是10。"
   ]
  },
  {
   "cell_type": "markdown",
   "metadata": {},
   "source": [
    "* 二、填空题(每题2分，共10分) \n",
    "<br>1. *>30    s\n",
    "<br>2. 1000/n  continue\n",
    "<br>3. return \n",
    "<br>4. 顺序结构，分支结构，循环结构\n",
    "<br>5. 'elw' <br>#注意，不要少了引号，因为最后的结果是字符串。若不清楚为什么，复习一下列表的切片。"
   ]
  },
  {
   "cell_type": "markdown",
   "metadata": {},
   "source": [
    "* 三、判断对错题(每题2分，共10分) \n",
    "<br>1.Ⅹ  应该是生成一个[a,b]之间的随机数\n",
    "<br>2.Ⅹ  应该是实参传递给形参。关于形式参数和实际参数的概念，见教材P124和P125\n",
    "<br>3.Ⅹ\n",
    "<br>4.√  24 <= 28 < 25 等效于24<=28 and 28<25，所以表达式是合法的，结果是False。\n",
    "<br>5.Ⅹ "
   ]
  },
  {
   "cell_type": "markdown",
   "metadata": {},
   "source": [
    "* 四、读程序写出正确的输出结果（共10分）\n",
    "<br>1. 2,4,6,8,10,12\n",
    "<br>2. [4,6,8,9]\n",
    "<br>3. {'k':'1','k1':'2','k2':'3','k3':'4'}"
   ]
  },
  {
   "cell_type": "code",
   "execution_count": 1,
   "metadata": {},
   "outputs": [
    {
     "name": "stdout",
     "output_type": "stream",
     "text": [
      "{'k': '1', 'k1': '2', 'k2': '3', 'k3': '4'}\n"
     ]
    }
   ],
   "source": [
    "#第3小题\n",
    "str = \"k:1|k1:2|k2:3|k3:4\"\n",
    "sl = str.split('|') #s1等于['k:1', 'k1:2', 'k2:3', 'k3:4']\n",
    "d = {}\n",
    "for i in sl:\n",
    "      key,value = i.split(':')   #第一次循环，i.split(':')的结果是['k','1']，注意元素均为字符串类型\n",
    "      d[key] = value\n",
    "print(d)"
   ]
  },
  {
   "cell_type": "markdown",
   "metadata": {},
   "source": [
    "* 五、简答题(每题5分，共10分) （回答到要点即可）\n",
    "<br>1.遍历循环for语句和无限循环（条件循环）while语句。for语句的循环次数是根据遍历结构中元素个数确定的。遍历循环可以理解为从遍历结构中逐一提取元素，放在循环变量中，对于所提取的每个元素执行一次语句块。很多应用在执行之初无法确定遍历结构，无线循环一直保持循环操作直到条件不满足才结束，不需要提前确定循环次数。\n",
    "<br>2. 缩进是Python语言实现“强制可读”的必要条件之一，使得程序不得不遵守一定的格式，增强程序可读性。缩进的存在使得程序控制结构层次清晰，明确，相比使用符号（如{}）实现控制结构作用域的方式更为简洁，是分支语句、循环语句必不可少的语法结构。"
   ]
  },
  {
   "cell_type": "markdown",
   "metadata": {},
   "source": [
    "* 六、编程设计题(共50分)"
   ]
  },
  {
   "cell_type": "markdown",
   "metadata": {},
   "source": [
    "1. 实现函数offset，参数是一个列表。函数调整原列表中各元素的位置，规则如下：将第一个元素放到列表最后，将其余元素依次向前移动一位，如，列表['a','b','c','d']经调整位置后变为['b','c'，'d'，'a']。编写程序定义offset函数，然后初始化一个列表ls，调用函数offset(ls)10次，最终打印ls经过调整位置后的列表。(12分)"
   ]
  },
  {
   "cell_type": "code",
   "execution_count": 2,
   "metadata": {},
   "outputs": [
    {
     "name": "stdout",
     "output_type": "stream",
     "text": [
      "[3, 4, 5, 6, 7, 8, 1, 2]\n"
     ]
    }
   ],
   "source": [
    "def offset(a):\n",
    "    b=a[1:]+[a[0]]  #使用切片，很方便地实现了列表中元素位置的调整\n",
    "    return b\n",
    "\n",
    "ls=[1,2,3,4,5,6,7,8]\n",
    "for i in range(10):\n",
    "    ls=offset(ls)\n",
    "print(ls)"
   ]
  },
  {
   "cell_type": "markdown",
   "metadata": {},
   "source": [
    "2.编写程序计算整数N到整数N+100之间所有奇数的数值和，不包含N+100，并将结果输出。整数N由用户给出。不判断输入异常。(12分)"
   ]
  },
  {
   "cell_type": "code",
   "execution_count": 3,
   "metadata": {},
   "outputs": [
    {
     "name": "stdout",
     "output_type": "stream",
     "text": [
      "输入一个整数：100\n",
      "7500\n"
     ]
    }
   ],
   "source": [
    "N=int(input('输入一个整数：'))\n",
    "lt=[x for x in range(N,N+100) if x%2==1]  #列表推导式，使得代码简化。注意range()的范围是[ )\n",
    "print(sum(lt))"
   ]
  },
  {
   "cell_type": "markdown",
   "metadata": {},
   "source": [
    "3.英文句子的重组，见QQ群第7周学习资料中的“第7周练习与作业点评”文件中的第3题。"
   ]
  },
  {
   "cell_type": "markdown",
   "metadata": {},
   "source": [
    "4.见QQ群第14周学习资料中“第14周学习引导”文件中应用案例部分的【例4】。此题在直播中我们也要进行点评。使用组合数据类型和使用pandas相比较，使用pandas来作此题比较简单。"
   ]
  }
 ],
 "metadata": {
  "kernelspec": {
   "display_name": "Python 3",
   "language": "python",
   "name": "python3"
  },
  "language_info": {
   "codemirror_mode": {
    "name": "ipython",
    "version": 3
   },
   "file_extension": ".py",
   "mimetype": "text/x-python",
   "name": "python",
   "nbconvert_exporter": "python",
   "pygments_lexer": "ipython3",
   "version": "3.7.6"
  }
 },
 "nbformat": 4,
 "nbformat_minor": 4
}
