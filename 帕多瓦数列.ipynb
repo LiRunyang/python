{
 "cells": [
  {
   "cell_type": "code",
   "execution_count": 5,
   "metadata": {},
   "outputs": [
    {
     "name": "stdout",
     "output_type": "stream",
     "text": [
      "1  1  1  2  2  3  4  5  7  9  12  16  21  28  37  49  65  86  114  151  200  265  351  465  616  816  1081  1432  1897  2513  29\n"
     ]
    }
   ],
   "source": [
    "n = 30\n",
    "li = [1,1,1]\n",
    "s=0\n",
    "b=-1\n",
    "while len(li) < n:\n",
    "    li.append(li[-2] + li[-3])\n",
    "for i in li:\n",
    "    print(i,end='  ')\n",
    "while True:\n",
    "    for i in li:\n",
    "        if s<=10000:\n",
    "            s+=i\n",
    "            b+=1\n",
    "    break \n",
    "print(b)"
   ]
  },
  {
   "cell_type": "code",
   "execution_count": null,
   "metadata": {},
   "outputs": [],
   "source": []
  },
  {
   "cell_type": "code",
   "execution_count": null,
   "metadata": {},
   "outputs": [],
   "source": []
  }
 ],
 "metadata": {
  "kernelspec": {
   "display_name": "Python 3",
   "language": "python",
   "name": "python3"
  },
  "language_info": {
   "codemirror_mode": {
    "name": "ipython",
    "version": 3
   },
   "file_extension": ".py",
   "mimetype": "text/x-python",
   "name": "python",
   "nbconvert_exporter": "python",
   "pygments_lexer": "ipython3",
   "version": "3.7.4"
  }
 },
 "nbformat": 4,
 "nbformat_minor": 2
}
