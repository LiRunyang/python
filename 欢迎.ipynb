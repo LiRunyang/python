{
 "cells": [
  {
   "cell_type": "code",
   "execution_count": 1,
   "metadata": {},
   "outputs": [
    {
     "name": "stdout",
     "output_type": "stream",
     "text": [
      "请输入您的姓名李润杨\n",
      "请输入您的性别，男性输入M，女性输入FM\n",
      "李润杨哥哥，Welcome！\n"
     ]
    }
   ],
   "source": [
    "name=input('请输入您的姓名')\n",
    "gender=input('请输入您的性别，男性输入M，女性输入F')\n",
    "if gender in 'Mm':\n",
    "    print('%s哥哥，Welcome！'%name)\n",
    "elif gender in 'Ff':\n",
    "    print('%s妹子，Welcome！'%name)\n",
    "else:\n",
    "    print('真是奇怪呢。。。。。。')"
   ]
  },
  {
   "cell_type": "code",
   "execution_count": null,
   "metadata": {},
   "outputs": [],
   "source": []
  }
 ],
 "metadata": {
  "kernelspec": {
   "display_name": "Python 3",
   "language": "python",
   "name": "python3"
  },
  "language_info": {
   "codemirror_mode": {
    "name": "ipython",
    "version": 3
   },
   "file_extension": ".py",
   "mimetype": "text/x-python",
   "name": "python",
   "nbconvert_exporter": "python",
   "pygments_lexer": "ipython3",
   "version": "3.7.4"
  }
 },
 "nbformat": 4,
 "nbformat_minor": 2
}
