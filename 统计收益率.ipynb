{
 "cells": [
  {
   "cell_type": "code",
   "execution_count": 20,
   "metadata": {},
   "outputs": [
    {
     "name": "stdout",
     "output_type": "stream",
     "text": [
      "年份     收益率\n",
      "----------------\n",
      "2015    -30.95%\n",
      "2016    199.48%\n",
      "2017    69.58%\n",
      "2018    -58.06%\n",
      "2019    -18.89%\n",
      "2020    -6.83%\n"
     ]
    }
   ],
   "source": [
    "a=[11.05,7.63,22.85,38.75,16.25,13.18,12.28]\n",
    "c=[]\n",
    "print(\"年份     收益率\")\n",
    "print('----------------')\n",
    "for i in range(1,7):\n",
    "    c=((a[i]-a[i-1])/a[i-1])\n",
    "    print(\"{}    {:.2%}\".format(2014+i,c))"
   ]
  },
  {
   "cell_type": "code",
   "execution_count": null,
   "metadata": {},
   "outputs": [],
   "source": []
  },
  {
   "cell_type": "code",
   "execution_count": null,
   "metadata": {},
   "outputs": [],
   "source": []
  }
 ],
 "metadata": {
  "kernelspec": {
   "display_name": "Python 3",
   "language": "python",
   "name": "python3"
  },
  "language_info": {
   "codemirror_mode": {
    "name": "ipython",
    "version": 3
   },
   "file_extension": ".py",
   "mimetype": "text/x-python",
   "name": "python",
   "nbconvert_exporter": "python",
   "pygments_lexer": "ipython3",
   "version": "3.7.4"
  }
 },
 "nbformat": 4,
 "nbformat_minor": 2
}
