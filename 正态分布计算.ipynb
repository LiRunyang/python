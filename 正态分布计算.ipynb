{
 "cells": [
  {
   "cell_type": "code",
   "execution_count": 3,
   "metadata": {},
   "outputs": [
    {
     "name": "stdout",
     "output_type": "stream",
     "text": [
      "请输入均值150\n",
      "请输入标准差10\n",
      "请输入X170\n",
      "0.005399096651318806\n"
     ]
    }
   ],
   "source": [
    "from math import *\n",
    "a=int(input('请输入均值'))\n",
    "b=int(input('请输入标准差'))\n",
    "x=int(input('请输入X'))\n",
    "f=(1/((pi*2)**0.5*b))*exp((-1*(x-a)**2)/(2*b**2))\n",
    "print(f)"
   ]
  },
  {
   "cell_type": "code",
   "execution_count": null,
   "metadata": {},
   "outputs": [],
   "source": []
  }
 ],
 "metadata": {
  "kernelspec": {
   "display_name": "Python 3",
   "language": "python",
   "name": "python3"
  },
  "language_info": {
   "codemirror_mode": {
    "name": "ipython",
    "version": 3
   },
   "file_extension": ".py",
   "mimetype": "text/x-python",
   "name": "python",
   "nbconvert_exporter": "python",
   "pygments_lexer": "ipython3",
   "version": "3.7.4"
  }
 },
 "nbformat": 4,
 "nbformat_minor": 2
}
