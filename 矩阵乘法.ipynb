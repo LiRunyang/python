{
 "cells": [
  {
   "cell_type": "code",
   "execution_count": 13,
   "metadata": {},
   "outputs": [
    {
     "name": "stdout",
     "output_type": "stream",
     "text": [
      "[[36, 42, 48], [81, 96, 111], [126, 150, 174]]\n"
     ]
    }
   ],
   "source": [
    "def abc3(a,b):\n",
    "    l1=[]\n",
    "    for i in range(len(a)):\n",
    "        l1.append([])\n",
    "        for j in range(len(b[0])):\n",
    "            n=0\n",
    "            for k in range(len(a[0])):\n",
    "                \n",
    "                n+=a[i][k]*b[k][j]\n",
    "            l1[i].append(n)\n",
    "    return l1        \n",
    "l=abc3([[1,2,3],[4,5,6],[7,8,9]],[[2,3,4],[5,6,7],[8,9,10]])\n",
    "print(l)"
   ]
  },
  {
   "cell_type": "code",
   "execution_count": null,
   "metadata": {},
   "outputs": [],
   "source": []
  },
  {
   "cell_type": "code",
   "execution_count": null,
   "metadata": {},
   "outputs": [],
   "source": []
  }
 ],
 "metadata": {
  "kernelspec": {
   "display_name": "Python 3",
   "language": "python",
   "name": "python3"
  },
  "language_info": {
   "codemirror_mode": {
    "name": "ipython",
    "version": 3
   },
   "file_extension": ".py",
   "mimetype": "text/x-python",
   "name": "python",
   "nbconvert_exporter": "python",
   "pygments_lexer": "ipython3",
   "version": "3.7.4"
  }
 },
 "nbformat": 4,
 "nbformat_minor": 2
}
