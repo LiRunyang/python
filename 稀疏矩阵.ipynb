{
 "cells": [
  {
   "cell_type": "code",
   "execution_count": 10,
   "metadata": {},
   "outputs": [
    {
     "data": {
      "text/plain": [
       "[[0, 0, 29, 0, 0, 0, 0, 0, 3, 85],\n",
       " [0, 0, 0, 0, 0, 0, 0, 0, 0, 3],\n",
       " [0, 0, 0, 0, 0, 0, 0, 0, 0, 0],\n",
       " [0, 0, 33, 0, 0, 0, 0, 0, 0, 0],\n",
       " [94, 0, 0, 0, 0, 0, 0, 0, 0, 0],\n",
       " [0, 0, 0, 87, 73, 0, 0, 0, 0, 0],\n",
       " [0, 0, 0, 0, 0, 0, 0, 0, 0, 0],\n",
       " [0, 0, 73, 0, 0, 0, 0, 0, 0, 0],\n",
       " [0, 0, 0, 0, 0, 0, 0, 0, 0, 93],\n",
       " [0, 0, 0, 0, 0, 0, 0, 0, 0, 0]]"
      ]
     },
     "execution_count": 10,
     "metadata": {},
     "output_type": "execute_result"
    }
   ],
   "source": [
    " from random import randint\n",
    "def xishu():\n",
    "    lt=[]\n",
    "    for i in range(10):\n",
    "        lt+=[[]]\n",
    "        for j in range(10):\n",
    "            lt[i].append(0)\n",
    "    for i in range(10):\n",
    "        a=randint(0,9)\n",
    "        b=randint(0,9)\n",
    "        c=randint(0,99)\n",
    "        lt[a][b]=c\n",
    "#稀疏矩阵\n",
    "    lt1=[]\n",
    "    lt1.append(len(lt)*len(lt[0]))\n",
    "    for i in range(len(lt)):\n",
    "        for j in range(len(lt[0])):\n",
    "            if lt[i][j]!=0:\n",
    "                lt1.append([i,j,lt[i][j]])\n",
    "    return lt\n",
    "xishu()"
   ]
  },
  {
   "cell_type": "code",
   "execution_count": null,
   "metadata": {},
   "outputs": [],
   "source": []
  },
  {
   "cell_type": "code",
   "execution_count": null,
   "metadata": {},
   "outputs": [],
   "source": []
  }
 ],
 "metadata": {
  "kernelspec": {
   "display_name": "Python 3",
   "language": "python",
   "name": "python3"
  },
  "language_info": {
   "codemirror_mode": {
    "name": "ipython",
    "version": 3
   },
   "file_extension": ".py",
   "mimetype": "text/x-python",
   "name": "python",
   "nbconvert_exporter": "python",
   "pygments_lexer": "ipython3",
   "version": "3.7.4"
  }
 },
 "nbformat": 4,
 "nbformat_minor": 2
}
