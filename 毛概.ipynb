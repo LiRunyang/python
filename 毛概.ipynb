{
 "cells": [
  {
   "cell_type": "code",
   "execution_count": 2,
   "metadata": {},
   "outputs": [
    {
     "name": "stdout",
     "output_type": "stream",
     "text": [
      "0.19473135113242018\n",
      "-0.03490782735187997\n",
      "[]\n"
     ]
    }
   ],
   "source": [
    "import pandas as pd\n",
    "df1 = pd.read_excel('C://Users//1//qsheet.xlsx')\n",
    "#print(df1)\n",
    "age=df1['1、请问您的年龄是：'].tolist()\n",
    "#print(age)\n",
    "area=df1['2、请问您所在的地区是：'].tolist()\n",
    "if_know=pd.Series(df1['3、请问您是否了解疫情以来发放的消费券：'].tolist())\n",
    "name=[area,age]\n",
    "#print(if_know)\n",
    "l1=[]\n",
    "a=0\n",
    "for i in name:\n",
    "    a+=1\n",
    "    cac=pd.Series(i)\n",
    "    print(age.corr(cac,method=\"pearson\"))\n",
    "print(l1)"
   ]
  },
  {
   "cell_type": "code",
   "execution_count": null,
   "metadata": {},
   "outputs": [],
   "source": []
  }
 ],
 "metadata": {
  "kernelspec": {
   "display_name": "Python 3",
   "language": "python",
   "name": "python3"
  },
  "language_info": {
   "codemirror_mode": {
    "name": "ipython",
    "version": 3
   },
   "file_extension": ".py",
   "mimetype": "text/x-python",
   "name": "python",
   "nbconvert_exporter": "python",
   "pygments_lexer": "ipython3",
   "version": "3.7.4"
  }
 },
 "nbformat": 4,
 "nbformat_minor": 2
}
