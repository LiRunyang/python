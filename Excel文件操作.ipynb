{
 "cells": [
  {
   "cell_type": "code",
   "execution_count": null,
   "metadata": {},
   "outputs": [],
   "source": [
    "import os\n",
    "import openpyxl as xl\n",
    "import random\n",
    "wb=xl.Workbook()\n",
    "for i in range(5):\n",
    "    wb.create_sheet('dir0'+str(i))\n",
    "cache=xl.load_workbook('a.xlsx')\n",
    "for i in cache.sheetnames:\n",
    "    sheet=wb[i]\n",
    "    num=random.randint(0,20)\n",
    "    a=range(num)\n",
    "    for j in a:\n",
    "        sheet.cell(row=j+1,column=1).value=i+'0'+str(j)\n",
    "wb.save('a.xlsx')"
   ]
  },
  {
   "cell_type": "code",
   "execution_count": null,
   "metadata": {},
   "outputs": [],
   "source": [
    "import os\n",
    "import openpyxl as xl\n",
    "os.mkdir('dir0')\n",
    "workbook=xl.load_workbook('a.xlsx')\n",
    "for i in workbook.sheetnames:\n",
    "    os.mkdir('dir0/{}'.format(i))\n",
    "for i in workbook.sheetnames:\n",
    "    sheet=workbook[i]\n",
    "    for j in range(sheet.max_row):\n",
    "        folder_name=sheet.cell(row=j+1,column=1).value\n",
    "        os.mkdir('dir0/{}/{}'.format(i,i+'0'+str(j)))"
   ]
  },
  {
   "cell_type": "code",
   "execution_count": null,
   "metadata": {},
   "outputs": [],
   "source": [
    "import random as rd\n",
    "import openpyxl as xl\n",
    "import os\n",
    "for a,b,c in os.walk('dir0'):\n",
    "    wb=xl.Workbook()\n",
    "    n=rd.randint(10,20)\n",
    "    for i in range(n):\n",
    "        if i<10:\n",
    "            si='0'+str(i)\n",
    "        else:\n",
    "            si=str(i)\n",
    "        if a[-2:][0] not in '0123456789':\n",
    "            s=a+'\\\\'+'workbook'+si+'.xlsx'\n",
    "        elif a[-4:][0] not in '0123456789':\n",
    "            s=a+'\\\\'+'workbook'+a[-2:]+si+'.xlsx'\n",
    "        else:\n",
    "            s=a+'\\\\'+'workbook'+a[-4:]+si+'.xlsx'\n",
    "        wb.save(s)"
   ]
  },
  {
   "cell_type": "code",
   "execution_count": null,
   "metadata": {
    "scrolled": false
   },
   "outputs": [],
   "source": [
    "import openpyxl as xl\n",
    "import os\n",
    "import random\n",
    "for root,dirs,files in os.walk('dir0'):\n",
    "    #print(os.getcwd())\n",
    "    for j in files:\n",
    "        #print(os.path.join(root,j))\n",
    "        workbook=xl.load_workbook(os.path.join(root,j))\n",
    "        for i in workbook.sheetnames:\n",
    "            sht=workbook[i]\n",
    "            #print(sht)\n",
    "            for l in range(50):\n",
    "                for k in range(5):\n",
    "                    sht.cell(row=l+1,column=k+1).value=str(random.randint(100,200))\n",
    "    #print(j)\n",
    "        workbook.save(os.path.join(root,j))"
   ]
  },
  {
   "cell_type": "code",
   "execution_count": null,
   "metadata": {},
   "outputs": [],
   "source": [
    "def copy_file(path_read, path_write):\n",
    "    names = os.listdir(path_read)\n",
    "    for name in names:\n",
    "        path_read_new = path_read + \"\\\\\" + name\n",
    "        path_write_new = path_write + \"\\\\\" + name\n",
    "        if os.path.isdir(path_read_new):\n",
    "            if not os.path.exists(path_write_new):\n",
    "                os.mkdir(path_write_new)\n",
    "            copy_file(path_read_new, path_write_new)\n",
    "        else:\n",
    "            copyfile(path_read_new, path_write_new)\n",
    "\n",
    "\n",
    "if __name__ == \"__main__\":\n",
    "    path_read = 'dir0'\n",
    "    os.mkdir('dir1')\n",
    "    path_write = \"dir1\"\n",
    "    copy_file(path_read, path_write)"
   ]
  },
  {
   "cell_type": "code",
   "execution_count": 7,
   "metadata": {},
   "outputs": [],
   "source": [
    "import os\n",
    "import pandas as pd\n",
    "import csv\n",
    "\n",
    "for root,dirs,files in os.walk('dir0'):\n",
    "    for i in files:\n",
    "        with open('a.csv','a+',encoding='utf-8') as f:\n",
    "            csv_file = csv.writer(f)\n",
    "            datas =[[i]]\n",
    "            csv_file.writerows(datas)\n",
    "        f.close()\n",
    "        file_path = os.path.join(root,i)\n",
    "        df = pd.read_excel(file_path)\n",
    "        df.to_csv('a.csv',index=False,mode='a')\n"
   ]
  },
  {
   "cell_type": "code",
   "execution_count": 1,
   "metadata": {},
   "outputs": [
    {
     "ename": "SyntaxError",
     "evalue": "unexpected EOF while parsing (<ipython-input-1-b5405d3e8de8>, line 5)",
     "output_type": "error",
     "traceback": [
      "\u001b[1;36m  File \u001b[1;32m\"<ipython-input-1-b5405d3e8de8>\"\u001b[1;36m, line \u001b[1;32m5\u001b[0m\n\u001b[1;33m    #print(i.split('.')[0])\u001b[0m\n\u001b[1;37m                           ^\u001b[0m\n\u001b[1;31mSyntaxError\u001b[0m\u001b[1;31m:\u001b[0m unexpected EOF while parsing\n"
     ]
    }
   ],
   "source": [
    "with open('a.csv','r',encoding='utf-8') as f:\n",
    "    content=f.readlines()\n",
    "    for i in content:\n",
    "        if '.xlsx' in i:\n",
    "            #print(i.split('.')[0])"
   ]
  },
  {
   "cell_type": "code",
   "execution_count": null,
   "metadata": {},
   "outputs": [],
   "source": []
  }
 ],
 "metadata": {
  "kernelspec": {
   "display_name": "Python 3",
   "language": "python",
   "name": "python3"
  },
  "language_info": {
   "codemirror_mode": {
    "name": "ipython",
    "version": 3
   },
   "file_extension": ".py",
   "mimetype": "text/x-python",
   "name": "python",
   "nbconvert_exporter": "python",
   "pygments_lexer": "ipython3",
   "version": "3.7.4"
  }
 },
 "nbformat": 4,
 "nbformat_minor": 2
}
