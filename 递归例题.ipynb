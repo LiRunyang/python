{
 "cells": [
  {
   "cell_type": "markdown",
   "metadata": {},
   "source": [
    "# 递归\n",
    "\n",
    "* 在函数的定义中，调用自身\n",
    "* 基例和链条\n",
    "* 使用函数+分支结构来实现"
   ]
  },
  {
   "cell_type": "markdown",
   "metadata": {},
   "source": [
    "# 递归例题\n",
    "**递归的典型例题包括：计算阶乘、实现字符串反转、汉诺塔等。这三个例题的解答，见教材和慕课的相关章节。**\n",
    "\n",
    "* 下面补充再补充几个使用递归的例题。\n",
    "\n",
    "## 【例1】求1+2+3+...+n"
   ]
  },
  {
   "cell_type": "code",
   "execution_count": 1,
   "metadata": {},
   "outputs": [
    {
     "name": "stdout",
     "output_type": "stream",
     "text": [
      "sum= 20100\n"
     ]
    }
   ],
   "source": [
    "def funcSum(n):\n",
    "    if n==1:\n",
    "        return 1\n",
    "    else:\n",
    "        return funcSum(n-1)+n\n",
    "print('sum=',funcSum(200))"
   ]
  },
  {
   "cell_type": "markdown",
   "metadata": {},
   "source": [
    "## 【例2】斐波拉契数列"
   ]
  },
  {
   "cell_type": "code",
   "execution_count": 2,
   "metadata": {},
   "outputs": [
    {
     "name": "stdout",
     "output_type": "stream",
     "text": [
      "1  1  2  3  5  8  13  21  34  55  89  144  233  377  610  987  1597  2584  4181  "
     ]
    }
   ],
   "source": [
    "def funcFbnq(n):\n",
    "    if n==1 or n==2:\n",
    "        return 1\n",
    "    else:\n",
    "        return funcFbnq(n-2)+funcFbnq(n-1)\n",
    "for i in range(1,20):\n",
    "    print(funcFbnq(i),' ',end='')"
   ]
  },
  {
   "cell_type": "markdown",
   "metadata": {},
   "source": [
    "注意：用递归的方法，斐波那契数列的项数不要超过30，因为后面产生一项的时间很长。"
   ]
  },
  {
   "cell_type": "markdown",
   "metadata": {},
   "source": [
    "## 【例3】判断字符串中是否有相同的字符"
   ]
  },
  {
   "cell_type": "code",
   "execution_count": 3,
   "metadata": {},
   "outputs": [
    {
     "name": "stdout",
     "output_type": "stream",
     "text": [
      "任意输入一个字符串：abcdefgh1234xy1\n",
      "True\n"
     ]
    }
   ],
   "source": [
    "def funcJ(s):\n",
    "    if len(s)==0 or len(s)==1:\n",
    "        return False    \n",
    "    elif len(s)==2:\n",
    "        if s[1] in s[0]:\n",
    "            return True   #False表示没有相同字符\n",
    "        else:\n",
    "            return False  #True表示有相同字符\n",
    "    elif len(s)>2:\n",
    "        if funcJ(s[:-1])==False and s[-1] not in s[:-1]:   #调用自身，递归\n",
    "            return False\n",
    "        else:\n",
    "            return True\n",
    "            \n",
    "a=input(\"任意输入一个字符串：\")\n",
    "print(funcJ(a))        "
   ]
  },
  {
   "cell_type": "markdown",
   "metadata": {},
   "source": [
    "* 本题更简单的做法，是将字符串转换为集合"
   ]
  },
  {
   "cell_type": "markdown",
   "metadata": {},
   "source": [
    "## 【例4】猴子摘桃子问题\n",
    "\n",
    "* 本周的作业\n"
   ]
  }
 ],
 "metadata": {
  "kernelspec": {
   "display_name": "Python 3",
   "language": "python",
   "name": "python3"
  },
  "language_info": {
   "codemirror_mode": {
    "name": "ipython",
    "version": 3
   },
   "file_extension": ".py",
   "mimetype": "text/x-python",
   "name": "python",
   "nbconvert_exporter": "python",
   "pygments_lexer": "ipython3",
   "version": "3.7.4"
  }
 },
 "nbformat": 4,
 "nbformat_minor": 4
}
