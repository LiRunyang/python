{
 "cells": [
  {
   "cell_type": "code",
   "execution_count": 4,
   "metadata": {},
   "outputs": [
    {
     "data": {
      "text/plain": [
       "26149"
      ]
     },
     "execution_count": 4,
     "metadata": {},
     "output_type": "execute_result"
    }
   ],
   "source": [
    "ord(\"春\")"
   ]
  },
  {
   "cell_type": "code",
   "execution_count": 20,
   "metadata": {},
   "outputs": [
    {
     "name": "stdout",
     "output_type": "stream",
     "text": [
      "春昦昧昨昩昪昫昬昭\n",
      "昮是昰昱昲昳昴昵昶\n",
      "昷昸昹昺昻昼昽显昿\n",
      "晀晁時晃晄晅晆晇晈\n",
      "晉晊晋晌晍晎晏晐晑\n",
      "晒晓晔晕晖晗晘晙晚\n",
      "晛晜晝晞晟晠晡晢晣\n",
      "晤晥晦晧晨晩晪晫晬\n",
      "晭普景晰晱晲晳晴晵\n"
     ]
    }
   ],
   "source": [
    "for i in range(0,9):\n",
    "    for j in range(0,9):\n",
    "        print(chr(26149+j+9*i),end=\"\")\n",
    "    print()"
   ]
  },
  {
   "cell_type": "code",
   "execution_count": null,
   "metadata": {},
   "outputs": [],
   "source": []
  }
 ],
 "metadata": {
  "kernelspec": {
   "display_name": "Python 3",
   "language": "python",
   "name": "python3"
  },
  "language_info": {
   "codemirror_mode": {
    "name": "ipython",
    "version": 3
   },
   "file_extension": ".py",
   "mimetype": "text/x-python",
   "name": "python",
   "nbconvert_exporter": "python",
   "pygments_lexer": "ipython3",
   "version": "3.7.4"
  }
 },
 "nbformat": 4,
 "nbformat_minor": 2
}
