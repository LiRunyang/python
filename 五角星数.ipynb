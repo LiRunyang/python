{
 "cells": [
  {
   "cell_type": "code",
   "execution_count": 4,
   "metadata": {},
   "outputs": [
    {
     "name": "stdout",
     "output_type": "stream",
     "text": [
      "五角星数有：54748\n",
      "五角星数有：92727\n",
      "五角星数有：93084\n"
     ]
    }
   ],
   "source": [
    "for x in range(1,10):  \n",
    "    for y in range(0,10): \n",
    "        for z in range(0,10): \n",
    "            for m in range(0,10):\n",
    "                for n in range(0,10):\n",
    "                    s1=x*10000+y*1000+z*100+m*10+n    \n",
    "                    s2= x**5 + y**5 + z**5 + m**5 + n**5  \n",
    "                    if s1==s2:\n",
    "                        print(\"五角星数有：%ld\" %(s1))"
   ]
  },
  {
   "cell_type": "code",
   "execution_count": null,
   "metadata": {},
   "outputs": [],
   "source": []
  }
 ],
 "metadata": {
  "kernelspec": {
   "display_name": "Python 3",
   "language": "python",
   "name": "python3"
  },
  "language_info": {
   "codemirror_mode": {
    "name": "ipython",
    "version": 3
   },
   "file_extension": ".py",
   "mimetype": "text/x-python",
   "name": "python",
   "nbconvert_exporter": "python",
   "pygments_lexer": "ipython3",
   "version": "3.7.4"
  }
 },
 "nbformat": 4,
 "nbformat_minor": 2
}
