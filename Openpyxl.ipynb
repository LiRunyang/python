{
 "cells": [
  {
   "cell_type": "code",
   "execution_count": null,
   "metadata": {},
   "outputs": [],
   "source": [
    "#例一\n",
    "import openpyxl as xl\n",
    "items=xl.load_workbook('商品清单.xlsx')\n",
    "for j in items.sheetnames:\n",
    "    c=items[j]\n",
    "    for i in range(2,c.max_row+1):\n",
    "        t=c.cell(row=i,column=6).value*c.cell(row=i,column=5).value\n",
    "        c.cell(row=i,column=7).value=t\n",
    "items.save('商品清单.xlsx')"
   ]
  },
  {
   "cell_type": "code",
   "execution_count": null,
   "metadata": {},
   "outputs": [],
   "source": [
    "#例二\n",
    "import openpyxl as xl\n",
    "a=xl.load_workbook('商品清单.xlsx')\n",
    "for t in a.sheetnames:\n",
    "    c=a[t]\n",
    "    print('\\n\\n'+t+'==================')\n",
    "    for i in range(1,c.max_row+1):\n",
    "        for j in range(1,c.max_column+1):\n",
    "            print(c.cell(row=i,column=j).value,end=' ')\n",
    "        print()"
   ]
  },
  {
   "cell_type": "code",
   "execution_count": null,
   "metadata": {},
   "outputs": [],
   "source": [
    "#练习1\n",
    "import openpyxl as xl\n",
    "a=xl.load_workbook('商品清单.xlsx')\n",
    "a.create_sheet('work')\n",
    "jdl=a['家电类']\n",
    "work=a['work']\n",
    "for i in range(2,jdl.max_row):\n",
    "    for j in range(1,jdl.max_column):\n",
    "        work.cell(row=3*i-2,column=j).value=jdl.cell(row=1,column=j).value\n",
    "for i in range(2,jdl.max_row):\n",
    "    for j in range(1,jdl.max_column):\n",
    "        work.cell(row=3*i-1,column=j).value=jdl.cell(row=i,column=j).value\n",
    "a.save('商品清单.xlsx')"
   ]
  },
  {
   "cell_type": "code",
   "execution_count": null,
   "metadata": {},
   "outputs": [],
   "source": [
    "import pandas as pd\n",
    "import openpyxl as xl\n",
    "table=xl.load_workbook('e_file.xlsx')\n",
    "for i in table.sheetnames:\n",
    "    pdata=pd.read_excel('e_file.xlsx',sheet_name=i)\n",
    "    df=pdata.to_csv('{}{}.csv'.format('e_file_',i))"
   ]
  },
  {
   "cell_type": "code",
   "execution_count": 21,
   "metadata": {},
   "outputs": [],
   "source": [
    "import pandas as pd\n",
    "import openpyxl as xl\n",
    "from os import *\n",
    "file_list=listdir('C:\\\\Users\\\\Li')\n",
    "for j in file_list:\n",
    "    if j[-4:] in ['xlsx','xlsm','xltx','xltm']:\n",
    "        table=xl.load_workbook(j)\n",
    "        for i in table.sheetnames:\n",
    "            pdata=pd.read_excel(j,sheet_name=i)\n",
    "            df=pdata.to_csv('{}{}.csv'.format(j[:-5]+'_',i))"
   ]
  },
  {
   "cell_type": "code",
   "execution_count": null,
   "metadata": {},
   "outputs": [],
   "source": []
  }
 ],
 "metadata": {
  "kernelspec": {
   "display_name": "Python 3",
   "language": "python",
   "name": "python3"
  },
  "language_info": {
   "codemirror_mode": {
    "name": "ipython",
    "version": 3
   },
   "file_extension": ".py",
   "mimetype": "text/x-python",
   "name": "python",
   "nbconvert_exporter": "python",
   "pygments_lexer": "ipython3",
   "version": "3.7.4"
  }
 },
 "nbformat": 4,
 "nbformat_minor": 2
}
