{
 "cells": [
  {
   "cell_type": "code",
   "execution_count": 1,
   "metadata": {},
   "outputs": [
    {
     "name": "stdout",
     "output_type": "stream",
     "text": [
      "请输入数字，这是你第 1 次机会：32\n",
      "小了\n",
      "请输入数字，这是你第 2 次机会：213\n",
      "大了\n",
      "请输入数字，这是你第 3 次机会：56\n",
      "Ohhhhhhhhhhyeah\n"
     ]
    }
   ],
   "source": [
    "for i in range(1,11):\n",
    "    c=56\n",
    "    num=int(input('请输入数字，这是你第 %d 次机会：'%i))\n",
    "    if num>c:\n",
    "        print('大了')\n",
    "    elif num<c:\n",
    "        print('小了')\n",
    "    else :\n",
    "        print('Ohhhhhhhhhhyeah')\n",
    "        break"
   ]
  }
 ],
 "metadata": {
  "kernelspec": {
   "display_name": "Python 3",
   "language": "python",
   "name": "python3"
  },
  "language_info": {
   "codemirror_mode": {
    "name": "ipython",
    "version": 3
   },
   "file_extension": ".py",
   "mimetype": "text/x-python",
   "name": "python",
   "nbconvert_exporter": "python",
   "pygments_lexer": "ipython3",
   "version": "3.7.4"
  }
 },
 "nbformat": 4,
 "nbformat_minor": 2
}
