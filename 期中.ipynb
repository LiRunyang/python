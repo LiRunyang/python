{
 "cells": [
  {
   "cell_type": "code",
   "execution_count": 2,
   "metadata": {},
   "outputs": [],
   "source": [
    "f1=open('a11.csv','w',encoding='utf-8')\n",
    "import random\n",
    "import numpy as np\n",
    "major=['教育学','数学','英语','计算机','会计','统计','金融','化学工程','通信工程','临床医学']\n",
    "majors=[]\n",
    "male_num=[]\n",
    "female_num=[]\n",
    "total=[]\n",
    "avg_age=[]\n",
    "scores=[]\n",
    "for i in range(10):\n",
    "    majors.append(random.choice(major))\n",
    "    mn=random.randint(30,101)\n",
    "    fn=random.randint(30,101)\n",
    "    male_num.append(mn)\n",
    "    female_num.append(fn)\n",
    "    total.append(fn+mn)\n",
    "    a=random.randint(108,221)\n",
    "    b=a/10\n",
    "    avg_age.append(b)\n",
    "    scores.append(random.randint(500,601))\n",
    "file=[majors,male_num,female_num,total,avg_age,scores]\n",
    "file=np.transpose(file).tolist()\n",
    "#print(file)\n",
    "#transpose = [[file[j][i] for j in range(len(file))] for i in range(len(file[0]))]\n",
    "a='专业,男生人数,女生人数,总人数,平均年龄,录取分数线\\n'\n",
    "for i in file:\n",
    "    cache=','.join(i)+'\\n'\n",
    "    a+=cache\n",
    "f1.write(a)\n",
    "f1.close()\n",
    "f2=open('a111.txt','w',encoding='utf-8')\n",
    "#print(file)\n",
    "sheet1=[]\n",
    "for i in file:\n",
    "    sheet=[]\n",
    "    sheet.append(i[0])\n",
    "    sheet.append(i[1])\n",
    "    sheet.append(i[2])\n",
    "    sheet.append(i[3])\n",
    "    sheet1.append(sheet)\n",
    "b='专业,男生人数,女生人数,总人数\\n'\n",
    "for i in sheet1:\n",
    "    cache=','.join(i)+'\\n'\n",
    "    b+=cache   \n",
    "f2.write(b)\n",
    "f2.close()\n",
    "\n",
    "f3=open('a112.txt','w',encoding='utf-8')\n",
    "sheet2=[]\n",
    "for i in file:\n",
    "    sheet=[]\n",
    "    sheet.append(i[0])\n",
    "    sheet.append(i[4])\n",
    "    sheet.append(i[5])\n",
    "    sheet2.append(sheet)\n",
    "c='专业,平均年龄,录取分数线\\n'\n",
    "for i in sheet2:\n",
    "    cache=','.join(i)+'\\n'\n",
    "    c+=cache\n",
    "f3.write(c)\n",
    "f3.close()\n"
   ]
  },
  {
   "cell_type": "code",
   "execution_count": null,
   "metadata": {},
   "outputs": [],
   "source": []
  },
  {
   "cell_type": "code",
   "execution_count": null,
   "metadata": {},
   "outputs": [],
   "source": []
  }
 ],
 "metadata": {
  "kernelspec": {
   "display_name": "Python 3",
   "language": "python",
   "name": "python3"
  },
  "language_info": {
   "codemirror_mode": {
    "name": "ipython",
    "version": 3
   },
   "file_extension": ".py",
   "mimetype": "text/x-python",
   "name": "python",
   "nbconvert_exporter": "python",
   "pygments_lexer": "ipython3",
   "version": "3.7.4"
  }
 },
 "nbformat": 4,
 "nbformat_minor": 2
}
