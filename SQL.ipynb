{
 "cells": [
  {
   "cell_type": "code",
   "execution_count": 19,
   "metadata": {},
   "outputs": [
    {
     "ename": "SyntaxError",
     "evalue": "invalid syntax (<ipython-input-19-bc219d13916f>, line 7)",
     "output_type": "error",
     "traceback": [
      "\u001b[1;36m  File \u001b[1;32m\"<ipython-input-19-bc219d13916f>\"\u001b[1;36m, line \u001b[1;32m7\u001b[0m\n\u001b[1;33m    cursor.execute('insert into t01 values('41904516','asc')')\u001b[0m\n\u001b[1;37m                                                   ^\u001b[0m\n\u001b[1;31mSyntaxError\u001b[0m\u001b[1;31m:\u001b[0m invalid syntax\n"
     ]
    }
   ],
   "source": [
    "import sqlite3\n",
    "db=sqlite3.connect('a.db')\n",
    "cursor=db.cursor()\n",
    "#cursor.execute('create table t01(a1 char(1))')\n",
    "#cursor.execute('create table t01(stu_no char(8) primary key, stu_name char(40))')\n",
    "for i in range(10,50):\n",
    "    cursor.execute('insert into t01 values('41904516','asc')')\n",
    "db.commit()\n",
    "db.close()"
   ]
  },
  {
   "cell_type": "code",
   "execution_count": null,
   "metadata": {},
   "outputs": [],
   "source": [
    "import sqlite3\n",
    "db=sqlite3.connect('a.db')\n",
    "cursor=db.cursor()\n",
    "r=cursor.fetchall()\n",
    "for i in range(len(r)):\n",
    "    for j in range(r[0]):\n",
    "        print(r[i][j])\n",
    "db.commit()\n",
    "db.close()"
   ]
  },
  {
   "cell_type": "code",
   "execution_count": null,
   "metadata": {},
   "outputs": [],
   "source": [
    "import sqlite3\n",
    "db=sqlite3.connect('a.db')\n",
    "cursor=db.cursor()\n",
    "for i in range(10):\n",
    "    s=\n",
    "    print(s)\n",
    "    #cursor.execute(s)\n",
    "db.commit()\n",
    "db.close()"
   ]
  },
  {
   "cell_type": "code",
   "execution_count": null,
   "metadata": {},
   "outputs": [],
   "source": [
    "import sqlite3\n",
    "db=sqlite3.connect('a.db')\n",
    "cursor=db.cursor()\n",
    "s='insert into t01 values('3190000'+str(i)+'','张三')'\n",
    "print(s)\n",
    "db.commit()\n",
    "db.close()"
   ]
  },
  {
   "cell_type": "code",
   "execution_count": null,
   "metadata": {},
   "outputs": [],
   "source": [
    "import sqlite3\n",
    "x=input()\n",
    "y=input()\n",
    "def query(x,y):\n",
    "    db=sqlite3.connect('a.db')\n",
    "    cursor=db.cursor()\n",
    "    if x='1':\n",
    "        cursor.executer('select cust_name,cust_phone from customer where cust_id='+y)\n",
    "    elif x=='2':\n",
    "        cursor.executer('select balance,ststus from account where account_no='+y)\n",
    "    elif x=='3':\n",
    "        cursor.execute('select * from deposit where account_no='+y)\n",
    "    r=cursor.fetchall()\n",
    "    db.commit()\n",
    "    db.close()\n",
    "    return r\n",
    "print(query(x,y))\n",
    "y1='2'\n",
    "while True:\n",
    "    if y1=='2':\n",
    "        x1=input('选择表')\n",
    "    elif y1=='3':\n",
    "        break\n",
    "        while True:\n",
    "            x2=input('查cust输身份证，其余输账号')\n",
    "                    print(query(x1,x2))\n",
    "                y1=input('')\n",
    "                if y1=='1':\n",
    "                    x1=x1\n",
    "                elif y1=='2':\n",
    "                    break\n",
    "                elif y1=='3':\n",
    "                    break"
   ]
  }
 ],
 "metadata": {
  "kernelspec": {
   "display_name": "Python 3",
   "language": "python",
   "name": "python3"
  },
  "language_info": {
   "codemirror_mode": {
    "name": "ipython",
    "version": 3
   },
   "file_extension": ".py",
   "mimetype": "text/x-python",
   "name": "python",
   "nbconvert_exporter": "python",
   "pygments_lexer": "ipython3",
   "version": "3.7.4"
  }
 },
 "nbformat": 4,
 "nbformat_minor": 2
}
