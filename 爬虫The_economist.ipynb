{
 "cells": [
  {
   "cell_type": "code",
   "execution_count": 5,
   "metadata": {
    "scrolled": true
   },
   "outputs": [
    {
     "name": "stdout",
     "output_type": "stream",
     "text": [
      "请输入网址https://www.economist.com/finance-and-economics/2020/04/16/why-has-chinas-stimulus-been-so-stingy?utm_campaign=the-economist-today&utm_medium=newsletter&utm_source=salesforce-marketing-cloud&utm_term=2020-04-17&utm_content=article-link-6\n"
     ]
    }
   ],
   "source": [
    "import requests      \n",
    "from bs4 import BeautifulSoup\n",
    "import os\n",
    "url=input('请输入网址')\n",
    "strhtml=requests.get(url).content        \n",
    "soup=BeautifulSoup(strhtml)\n",
    "with open(\"The Eco.txt\",\"w\",encoding='utf-8') as f:\n",
    "        f.write(str(soup.find_all('p',class_=\"article__body-text\")))\n",
    "files = os.listdir(\".\")      \n",
    "\n",
    "for filename in files:\n",
    "    portion = os.path.splitext(filename)\n",
    "\n",
    "    if portion[1] == \".txt\": \n",
    "        newname = portion[0] + \".html\"  \n",
    "        os.rename(filename,newname)"
   ]
  },
  {
   "cell_type": "code",
   "execution_count": null,
   "metadata": {},
   "outputs": [],
   "source": []
  }
 ],
 "metadata": {
  "kernelspec": {
   "display_name": "Python 3",
   "language": "python",
   "name": "python3"
  },
  "language_info": {
   "codemirror_mode": {
    "name": "ipython",
    "version": 3
   },
   "file_extension": ".py",
   "mimetype": "text/x-python",
   "name": "python",
   "nbconvert_exporter": "python",
   "pygments_lexer": "ipython3",
   "version": "3.7.4"
  }
 },
 "nbformat": 4,
 "nbformat_minor": 2
}
