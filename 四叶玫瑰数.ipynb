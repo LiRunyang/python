{
 "cells": [
  {
   "cell_type": "code",
   "execution_count": 11,
   "metadata": {},
   "outputs": [
    {
     "name": "stdout",
     "output_type": "stream",
     "text": [
      "9\n",
      "1\n",
      "3\n",
      "4\n",
      "n不是四叶玫瑰数\n"
     ]
    }
   ],
   "source": [
    "from math import *\n",
    "from random import *\n",
    "num=randint(1000,9999)\n",
    "a=num//1000\n",
    "b=(num%1000)//100\n",
    "c=(num%100)//10\n",
    "d=num%10\n",
    "print(a) \n",
    "print(b) \n",
    "print(c) \n",
    "print(d) \n",
    "if a**4+b**4+c**4+d**4==num:\n",
    "    print(\"n是四叶玫瑰数\")\n",
    "else:\n",
    "    print(\"n不是四叶玫瑰数\")"
   ]
  },
  {
   "cell_type": "code",
   "execution_count": null,
   "metadata": {},
   "outputs": [],
   "source": []
  },
  {
   "cell_type": "code",
   "execution_count": null,
   "metadata": {},
   "outputs": [],
   "source": []
  }
 ],
 "metadata": {
  "kernelspec": {
   "display_name": "Python 3",
   "language": "python",
   "name": "python3"
  },
  "language_info": {
   "codemirror_mode": {
    "name": "ipython",
    "version": 3
   },
   "file_extension": ".py",
   "mimetype": "text/x-python",
   "name": "python",
   "nbconvert_exporter": "python",
   "pygments_lexer": "ipython3",
   "version": "3.7.4"
  }
 },
 "nbformat": 4,
 "nbformat_minor": 2
}
