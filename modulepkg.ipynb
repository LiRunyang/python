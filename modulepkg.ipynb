{
 "cells": [
  {
   "cell_type": "code",
   "execution_count": null,
   "metadata": {},
   "outputs": [],
   "source": [
    "def jzxj():\n",
    "    import numpy as np\n",
    "\n",
    "    x = np.array( [[12,7,3],\n",
    "               [4 ,5,6],\n",
    "               [7 ,8,9]])\n",
    "    y = np.array( [[5,8,1],\n",
    "               [6,7,3],\n",
    "               [4,5,9]])\n",
    "    z = x+y\n",
    "    print(z)\n",
    "def jeyycfc():\n",
    "    import numpy as np\n",
    "    a=np.array([[8,-6],[-4,11]])\n",
    "    b=np.array([4,-10])\n",
    "    x=np.linalg.solve(a,b)\n",
    "    print(x)\n",
    "    print(np.allclose(np.dot(a,x), b))"
   ]
  },
  {
   "cell_type": "code",
   "execution_count": null,
   "metadata": {},
   "outputs": [],
   "source": []
  }
 ],
 "metadata": {
  "kernelspec": {
   "display_name": "Python 3",
   "language": "python",
   "name": "python3"
  },
  "language_info": {
   "codemirror_mode": {
    "name": "ipython",
    "version": 3
   },
   "file_extension": ".py",
   "mimetype": "text/x-python",
   "name": "python",
   "nbconvert_exporter": "python",
   "pygments_lexer": "ipython3",
   "version": "3.7.4"
  }
 },
 "nbformat": 4,
 "nbformat_minor": 2
}
