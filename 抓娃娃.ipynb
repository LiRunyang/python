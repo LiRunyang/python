{
 "cells": [
  {
   "cell_type": "code",
   "execution_count": null,
   "metadata": {},
   "outputs": [
    {
     "name": "stdout",
     "output_type": "stream",
     "text": [
      "抓娃娃用的时长:324\n",
      "时间到！\n",
      "抓娃娃用的时长:12\n",
      "时间到！\n",
      "抓娃娃用的时长:4\n",
      "本次用时:4\n"
     ]
    }
   ],
   "source": [
    "for i in range(0,5):\n",
    "    num=int(input('抓娃娃用的时长:'))\n",
    "    if num>10:\n",
    "        print('时间到！')\n",
    "    else:\n",
    "        print(\"本次用时:%d\"%num)"
   ]
  },
  {
   "cell_type": "code",
   "execution_count": null,
   "metadata": {},
   "outputs": [],
   "source": []
  }
 ],
 "metadata": {
  "kernelspec": {
   "display_name": "Python 3",
   "language": "python",
   "name": "python3"
  },
  "language_info": {
   "codemirror_mode": {
    "name": "ipython",
    "version": 3
   },
   "file_extension": ".py",
   "mimetype": "text/x-python",
   "name": "python",
   "nbconvert_exporter": "python",
   "pygments_lexer": "ipython3",
   "version": "3.7.4"
  }
 },
 "nbformat": 4,
 "nbformat_minor": 2
}
