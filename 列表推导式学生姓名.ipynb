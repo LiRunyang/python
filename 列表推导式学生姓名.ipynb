{
 "cells": [
  {
   "cell_type": "code",
   "execution_count": 14,
   "metadata": {},
   "outputs": [
    {
     "name": "stdout",
     "output_type": "stream",
     "text": [
      "3\n"
     ]
    }
   ],
   "source": [
    "lt=[('张三',96),('李四',78),('王五',56),('王六',87),('陈七',47),('张五',91),('王九',80),('李九',73),('陈三',65)]\n",
    "a=sum([i[1]>=85 for i in lt])\n",
    "print(a)"
   ]
  },
  {
   "cell_type": "code",
   "execution_count": 52,
   "metadata": {},
   "outputs": [
    {
     "name": "stdout",
     "output_type": "stream",
     "text": [
      "[('王五', 56), ('陈七', 47)]\n"
     ]
    }
   ],
   "source": [
    "lt=[('张三',96),('李四',78),('王五',56),('王六',87),('陈七',47),('张五',91),('王九',80),('李九',73),('陈三',65)]\n",
    "a=[i for i in lt if i[1]<60]\n",
    "print(a)"
   ]
  },
  {
   "cell_type": "code",
   "execution_count": 45,
   "metadata": {},
   "outputs": [
    {
     "name": "stdout",
     "output_type": "stream",
     "text": [
      "[('王五', 56), ('陈七', 47)]\n"
     ]
    }
   ],
   "source": [
    "lt=[('张三',96),('李四',78),('王五',56),('王六',87),('陈七',47),('张五',91),('王九',80),('李九',73),('陈三',65)]\n",
    "n=[]\n",
    "for i in lt:\n",
    "    if i[1]<60:\n",
    "        n.append(i)\n",
    "print(n)"
   ]
  },
  {
   "cell_type": "code",
   "execution_count": null,
   "metadata": {},
   "outputs": [],
   "source": []
  }
 ],
 "metadata": {
  "kernelspec": {
   "display_name": "Python 3",
   "language": "python",
   "name": "python3"
  },
  "language_info": {
   "codemirror_mode": {
    "name": "ipython",
    "version": 3
   },
   "file_extension": ".py",
   "mimetype": "text/x-python",
   "name": "python",
   "nbconvert_exporter": "python",
   "pygments_lexer": "ipython3",
   "version": "3.7.4"
  }
 },
 "nbformat": 4,
 "nbformat_minor": 2
}
