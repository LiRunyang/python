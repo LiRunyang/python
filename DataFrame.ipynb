{
 "cells": [
  {
   "cell_type": "code",
   "execution_count": null,
   "metadata": {},
   "outputs": [],
   "source": [
    "#例一\n",
    "import numpy as np\n",
    "import pandas as pd\n",
    "a=pd.Series(np.random.randint(1,100,(200)))\n",
    "#print(a)\n",
    "a[202]=400\n",
    "a[199]=300\n",
    "a=a.drop(2)\n",
    "#print(a)\n",
    "a=a.drop(a.index[2])\n",
    "print(a)\n",
    "print(a[4])\n",
    "print(a.index[4])\n",
    "print(a[a.index[4]])"
   ]
  },
  {
   "cell_type": "code",
   "execution_count": null,
   "metadata": {},
   "outputs": [],
   "source": [
    "#例二\n",
    "import numpy as np\n",
    "import pandas as pd\n",
    "a2=pd.Series(['1','2','3','4','5','6','7','8'],index=['q','w','e','r','t','y','u','i'])\n",
    "#print(a2)\n",
    "#print(a2[2])\n",
    "#print(a2['e'])\n",
    "a2=a2.drop('e')\n",
    "print(a2)\n",
    "a2=a2.drop(a2.index[2])\n",
    "print(a2)\n",
    "a2[2]=1000\n",
    "print(a2)"
   ]
  },
  {
   "cell_type": "code",
   "execution_count": null,
   "metadata": {},
   "outputs": [],
   "source": [
    "#例三\n",
    "import numpy as np\n",
    "import pandas as pd\n",
    "a=pd.Series(np.random.randint(1,100,(200)))\n",
    "print(a[2:5])\n",
    "print(a.count())#个数\n",
    "print(a.sum())\n",
    "print(a.mean())\n",
    "a.median()\n",
    "a.max()\n",
    "a.min()\n",
    "a.var()#方差\n",
    "a.std()#标准差"
   ]
  },
  {
   "cell_type": "code",
   "execution_count": null,
   "metadata": {},
   "outputs": [],
   "source": [
    "#例四\n",
    "import numpy as np\n",
    "import pandas as pd\n",
    "1.np.random.randint(1,100,(10,10))\n",
    "a1=pd.DataFrame(a)\n",
    "print(a1)"
   ]
  },
  {
   "cell_type": "code",
   "execution_count": null,
   "metadata": {},
   "outputs": [],
   "source": [
    "#例五\n",
    "import numpy as np, pandas as pd\n",
    "al=pd. DataFrame(np.random.randint(1,100,(500,5)))\n",
    "print(al)\n",
    "print(\"数据框架a1的0列(0字段):\")\n",
    "print(al[0])\n",
    "print(\"数据框架a1的1列(1字段):\")\n",
    "print(al[1])\n",
    "print(\"数据框架a1的2列(2字段):\")\n",
    "print(a1[2])\n",
    "print(\"数据框架a1的0到7行:\")\n",
    "print (al[0:8])\n",
    "print(\"数据框架a1的0列的和:\")\n",
    "print(al[0].sum())\n",
    "print(\"数据框架a1的1列的个数:\")\n",
    "print([1]. count()\n",
    "print(\"数据框架a1的2列的均值:\")\n",
    "print(a1[2].mean())"
   ]
  },
  {
   "cell_type": "code",
   "execution_count": null,
   "metadata": {},
   "outputs": [],
   "source": [
    "#例六\n",
    "import numpy as np,pandas as pd\n",
    "al=pd. DataFrame(np. random. randint(1, 100, (200,5)))\n",
    "print(al)\n",
    "print(\"数据框架a1的0行:\")\n",
    "print(al. loc [0])\n",
    "print(\"数据框架a1的1、4、3行:\")\n",
    "print(al. loc[[1, 4, 31])\n",
    "print(\"数据框架a1的2到6行(包括6行):\")\n",
    "print(.loc[: 6])\n",
    "print(\"数据框架a1的3行4列上的元素:\")\n",
    "print (al. loc [3, 4])\n",
    "print(a1[4][3])\n",
    "print(\"数据框架a1的4列:\")\n",
    "print(al.loc[:,4])\n",
    "print(\"数据框架a1的1、4、2列:\")\n",
    "print(a1.loc[:,[1,4,2]])\n",
    "print(\"数据框架a1的1到4列:\")\n",
    "print (al. loc [ 1: 4])\n",
    "print(\"数据框架a1的3到9行并且1到4列:\")\n",
    "print(al. loc [3: 9, 1: 4])\n",
    "a1[2][3]=10000\n",
    "print(al)\n",
    "a1[2][4]=\"swufe\"\n",
    "print (al)\n",
    "print([2])"
   ]
  },
  {
   "cell_type": "code",
   "execution_count": null,
   "metadata": {},
   "outputs": [],
   "source": [
    "#例七\n",
    "import numpy as np\n",
    "import pandas as pd\n",
    "a=pd.DataFrame(np.random.randint(1,100,(200,5)))\n",
    "for i in range(len(a[0])):\n",
    "    for j in range(len(a.loc[0])):\n",
    "        print(a.loc[i,j],end='')\n",
    "    print()"
   ]
  },
  {
   "cell_type": "code",
   "execution_count": null,
   "metadata": {},
   "outputs": [],
   "source": [
    "#例八\n",
    "import numpy as np, pandas as pd\n",
    "nl=np.arange (1, 51). reshape(10, 5)\n",
    "al=pd. DataFrame (n1, index=list(\"abcdefghij\"), columns=list(\"vwxyz\"))\n",
    "print(al)\n",
    "print(al.head(3))\n",
    "print (al.tail(3))\n",
    "print (al[\"x\"])\n",
    "print(a1[\"x\"])\n",
    "print(al.loc[\"a\",[\"x\",\"y\"]])\n",
    "print (al. loc [[\"a\",\"c\"],[\"x\",\"z\"]])\n",
    "print(al.loc[:,:]\n",
    "al.columns=[\"c1\",\"c2\",\"c3\",\"c4\",\"c5\"]\n",
    "al.index=range(1, 11)\n",
    "print(al)\n",
    "print(a1[\"c1\"][2])\n",
    "print(al.index[1])\n",
    "print(al.loc[al.index[1]])"
   ]
  },
  {
   "cell_type": "code",
   "execution_count": null,
   "metadata": {},
   "outputs": [],
   "source": [
    "#例九\n",
    "import numpy as np,pandas as pd\n",
    "nl=np.arange(1,51). reshape(10,5)\n",
    "al=pd.DataFrame (n1,index=list(\"abcdefghij\"), columns=list (\"vwxyz\"))\n",
    "print(al)\n",
    "a1.1oc[\"m\"]=[1,1,1,1,1]\n",
    "print(al)\n",
    "a1[\"z1\"]=[1000,2000,3000,4000,5000,6000,7000,8000,9000,10000,1]\n",
    "print(al)\n",
    "a2=. drop ([\"a\"])\n",
    "print(a2)\n",
    "a3=a2. drop(columns=['x'])\n",
    "print(a3)\n",
    "print(a3[(a3[\"w\"]>5)&(a3[\"w\"]<20)])\n",
    "print(a3[(a3[\"w\"]>5)&(a3[\"v\"]==36)])"
   ]
  },
  {
   "cell_type": "code",
   "execution_count": null,
   "metadata": {},
   "outputs": [],
   "source": [
    "#例十\n",
    "import numpy as np\n",
    "import pandas as pd\n",
    "nl=np.arange(1,51).reshape(10, 5)\n",
    "al=pd.DataFrame(n1,index=list(\"abcdefghij\"), columns=list (\"vwxyz\"))\n",
    "print(al)\n",
    "al. loc [\"c\", \"x\"]=np.nan\n",
    "al. loc [\"a\", \"w\"]=np.nan\n",
    "al. loc [\"e\", \"y\"]=np.nan\n",
    "print(al)\n",
    "print(pd.isnull(a1))\n",
    "print(al.dropna(0))\n",
    "print (al.fillna(0))\n",
    "print(al.fillna(al.mean()))\n",
    "print(al.fillna(method=\"ffill\"))\n",
    "print(al.fillna(method=bfill\"))\n",
    "print(al.fillna(method=\"bfill\",axis=1))"
   ]
  },
  {
   "cell_type": "code",
   "execution_count": null,
   "metadata": {},
   "outputs": [],
   "source": [
    "#例十一\n",
    "import pandas as pd\n",
    "import numpy as np\n",
    "d1=pd.read_excel('all.xlsx')\n",
    "d2=pd.read_excel('al1.xlsx',sheet_name=\"sheet5\",header=None)\n",
    "print(d1)\n",
    "print(d2)\n",
    "writer=pd.ExcelWriter('all_out.xlsx')\n",
    "d1.to_excel(writer,'Sheet1')\n",
    "d1.to_excel(writer, 'Sheet2', index=False)\n",
    "d2.to_excel(writer, 'Sheet3', header=False)\n",
    "d2.to_excel(writer, Sheet44, header=False, index=False)\n",
    "writer.save()"
   ]
  },
  {
   "cell_type": "code",
   "execution_count": null,
   "metadata": {},
   "outputs": [],
   "source": [
    "#例十二\n",
    "import pandas as pd, numpy as np\n",
    "df=pd. read excel(\"a12.xlsx\")\n",
    "df[\"total\"]=df[\"an\"]+df[\"feb\"]+df[\"Mar\"]\n",
    "print(df)\n",
    "writer=pd.ExcelWriter('a12_out.xlsx')\n",
    "df.to_excel(writer, 'Sheet1', index=False)\n",
    "writer.save()"
   ]
  },
  {
   "cell_type": "code",
   "execution_count": null,
   "metadata": {},
   "outputs": [],
   "source": [
    "#例十三\n",
    "import pandas as pd\n",
    "import numpy as np\n",
    "df=pd.read_csv('a13. csv',encoding =\"gbk\")\n",
    "print (df)\n",
    "df[\"平均分\"]=round((df[\"数学\"]+df\"英语\"]+df[\"程序设计\"])/3,2)\n",
    "print(df)\n",
    "df.to_csv(\"a13_out. csv\", encoding=\"gbk\", index=False)"
   ]
  }
 ],
 "metadata": {
  "kernelspec": {
   "display_name": "Python 3",
   "language": "python",
   "name": "python3"
  },
  "language_info": {
   "codemirror_mode": {
    "name": "ipython",
    "version": 3
   },
   "file_extension": ".py",
   "mimetype": "text/x-python",
   "name": "python",
   "nbconvert_exporter": "python",
   "pygments_lexer": "ipython3",
   "version": "3.7.4"
  }
 },
 "nbformat": 4,
 "nbformat_minor": 2
}
