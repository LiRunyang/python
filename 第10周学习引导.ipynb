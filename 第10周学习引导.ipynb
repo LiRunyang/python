{
 "cells": [
  {
   "cell_type": "markdown",
   "metadata": {},
   "source": [
    "# 第10周学习引导\n",
    "\n",
    "本周的主要学习任务：（1）对数据类型进行总结；（2）安装并使用Jupyter Notebook <br>\n",
    "\n",
    "目录：<br>\n",
    "10.1 数据类型总结<br>\n",
    "10.2 实例<br>\n",
    "10.3 Jupyter Notebook的安装和使用<br>\n",
    "10.4 练习和作业<br>\n",
    "\n",
    "## 10.1 数据类型总结\n",
    "\n",
    "截至目前，我们已经学习或者是用到过的数据类型：<br>\n",
    "* 数字、字符串、列表、元组、集合、字典\n",
    "* 布尔类型（经常使用，但还没有进行归类总结）\n",
    "* datetime库中的类型（选学），解决日期和时间方面的问题\n",
    "* 假设d为一字典，d.keys()、d.values()、d.items()的返回值是什么类型的呢？<br><br>\n",
    "**原来，在Python中，数据类型众多，用type()可以检查数据是属于什么classs（类）的**"
   ]
  },
  {
   "cell_type": "code",
   "execution_count": 1,
   "metadata": {},
   "outputs": [
    {
     "data": {
      "text/plain": [
       "float"
      ]
     },
     "execution_count": 1,
     "metadata": {},
     "output_type": "execute_result"
    }
   ],
   "source": [
    "type(1.23)"
   ]
  },
  {
   "cell_type": "code",
   "execution_count": 2,
   "metadata": {},
   "outputs": [
    {
     "name": "stdout",
     "output_type": "stream",
     "text": [
      "<class 'dict'>\n",
      "<class 'int'>\n",
      "<class 'dict_keys'>\n"
     ]
    }
   ],
   "source": [
    "d={'A1':90,'A2':85,'A3':63,'A4':79}\n",
    "print(type(d))\n",
    "print(type(d['A1']))\n",
    "print(type(d.keys()))"
   ]
  },
  {
   "cell_type": "markdown",
   "metadata": {},
   "source": [
    "我们目前要重点了解掌握的数据类型包括数字、字符串、列表、元组、集合、字典、布尔类型，以及针对这些class的操作（方法和函数等）。其中，字符串、列表、元组、集合和字典被归为组合数据类型。<br>\n",
    "同学们可以参考前期所给的各种学习资料，对各主要数据类型的知识细节进行总结。<br>\n",
    "\n",
    "**ps: 下面的内容，<font color=red>仅仅</font>是部分典型的，或者是在前面的学习中没有归纳整理的知识点，并增加了一点教材中没有的内容。同学们可以参照此文件，作自己的Jupyter Notebook笔记。若文件太长，可以对于各种数据类型分别进行总结，形成不同的ipynb文件。**"
   ]
  },
  {
   "cell_type": "markdown",
   "metadata": {},
   "source": [
    "### 10.1.1 数字\n",
    "\n",
    "* int型和float型\n",
    "* int型的长度仅受到机器的限制，float型的小数部分因为要转换为二进制来保存，存在着不确定尾数的问题。"
   ]
  },
  {
   "cell_type": "code",
   "execution_count": 3,
   "metadata": {},
   "outputs": [
    {
     "data": {
      "text/plain": [
       "0.6000000000000001"
      ]
     },
     "execution_count": 3,
     "metadata": {},
     "output_type": "execute_result"
    }
   ],
   "source": [
    "0.1+0.2+0.3"
   ]
  },
  {
   "cell_type": "code",
   "execution_count": 4,
   "metadata": {},
   "outputs": [
    {
     "name": "stdout",
     "output_type": "stream",
     "text": [
      "1 125 2\n"
     ]
    }
   ],
   "source": [
    "#一些比较特别的运算\n",
    "print(5//3,5**3,5%3)"
   ]
  },
  {
   "cell_type": "code",
   "execution_count": 5,
   "metadata": {},
   "outputs": [
    {
     "name": "stdout",
     "output_type": "stream",
     "text": [
      "0.005399096651318806\n"
     ]
    }
   ],
   "source": [
    "#一些复杂的计算，除了使用内置函数，还需要使用math库，比如曾经做过的作业：正态分布的计算\n",
    "from math import *\n",
    "u=150\n",
    "a=10\n",
    "x=170\n",
    "fx=1/(sqrt(2*pi)*a)*exp(-1*(x-u)**2/(2*a**2))\n",
    "print(fx)"
   ]
  },
  {
   "cell_type": "markdown",
   "metadata": {},
   "source": [
    "* 正态分布计算延伸的问题：<br>\n",
    "（1）改写为自定义函数，即输入均值、标准差和x值，即可计算概率密度函数；（2）如何计算正态分布的累积概率？进一步延伸，给定一函数f(x)的显性表达式，如何计算其定积分？即计算$\\int_{a}^{b}f(x)dx$  <br>\n",
    "* 其它与数字相关的数学计算问题"
   ]
  },
  {
   "cell_type": "markdown",
   "metadata": {},
   "source": [
    "### 10.1.2 布尔类型\n",
    "<br>该类型在教材中没有专门进行介绍，但经常都在使用，下面简单地进行一些总结<br>\n",
    "* 布尔类型的取值只有True和False两个\n",
    "* True相当于1，False相当于0\n",
    "* 逻辑运算符 and  or  not，注意运算的顺序\n",
    "* 比较运算符 ==  !=  >=等\n",
    "* is 和is not\n",
    "* in 和 not in\n",
    "* Python中允许使用组合条件连写，比如3<6>5 等效于 3<6 and 6>5"
   ]
  },
  {
   "cell_type": "code",
   "execution_count": 6,
   "metadata": {},
   "outputs": [
    {
     "name": "stdout",
     "output_type": "stream",
     "text": [
      "True <class 'bool'> 6\n"
     ]
    }
   ],
   "source": [
    "a=3!=4\n",
    "print(a,type(a),a+5)"
   ]
  },
  {
   "cell_type": "code",
   "execution_count": 7,
   "metadata": {},
   "outputs": [
    {
     "name": "stdout",
     "output_type": "stream",
     "text": [
      "[False, True, False, False, True, True, True, False]\n",
      "4\n"
     ]
    }
   ],
   "source": [
    "#统计列表中满足条件的个数，比如在下面的列表中统计大写字母的个数\n",
    "lt=['a','A','b','f','S','D','E','r']\n",
    "lt1=[x<='Z' for x in lt]\n",
    "print(lt1)\n",
    "print(sum(lt1))"
   ]
  },
  {
   "cell_type": "code",
   "execution_count": 8,
   "metadata": {},
   "outputs": [
    {
     "data": {
      "text/plain": [
       "3"
      ]
     },
     "execution_count": 8,
     "metadata": {},
     "output_type": "execute_result"
    }
   ],
   "source": [
    "sum([1,2])"
   ]
  },
  {
   "cell_type": "code",
   "execution_count": 9,
   "metadata": {},
   "outputs": [
    {
     "data": {
      "text/plain": [
       "False"
      ]
     },
     "execution_count": 9,
     "metadata": {},
     "output_type": "execute_result"
    }
   ],
   "source": [
    "#下面的式子的运算结果是怎么样的？运算结果表明not和and的运算级别是相同的\n",
    "not 7>8 and 8==7"
   ]
  },
  {
   "cell_type": "markdown",
   "metadata": {},
   "source": [
    "Python对象包含的三个基本要素，分别是：id(身份标识)、type(数据类型)和value(值)。==判断的是两个对象的值是否相同，而is 判断的是两个对象的id是否相同。可以使用内置函数id()来检测一个对象的id，返回值为一整数，可以理解为在内存中的保存地址。"
   ]
  },
  {
   "cell_type": "code",
   "execution_count": 10,
   "metadata": {},
   "outputs": [
    {
     "name": "stdout",
     "output_type": "stream",
     "text": [
      "2369427708552 2369427708552\n"
     ]
    }
   ],
   "source": [
    "a=b=[1,2,3,4]  #a和b的值和id均相同\n",
    "print(id(a),id(b))"
   ]
  },
  {
   "cell_type": "code",
   "execution_count": 11,
   "metadata": {},
   "outputs": [
    {
     "name": "stdout",
     "output_type": "stream",
     "text": [
      "[1, 2, 3, 4, 5] [1, 2, 3, 4, 5] True\n"
     ]
    }
   ],
   "source": [
    "a.append(5)\n",
    "print(a,b,a is b)"
   ]
  },
  {
   "cell_type": "code",
   "execution_count": 12,
   "metadata": {
    "scrolled": true
   },
   "outputs": [
    {
     "name": "stdout",
     "output_type": "stream",
     "text": [
      "[1, 2, 3, 4, 5] [1, 2, 3, 4, 5] 2369427678728 2369427708552\n",
      "True False\n"
     ]
    }
   ],
   "source": [
    "c=a+[]\n",
    "print(c,a,id(c),id(a))  #加上了一个空的列表之后，c和a的值相同，但是id不同\n",
    "print(c==a,c is a)"
   ]
  },
  {
   "cell_type": "code",
   "execution_count": 13,
   "metadata": {
    "scrolled": true
   },
   "outputs": [
    {
     "data": {
      "text/plain": [
       "False"
      ]
     },
     "execution_count": 13,
     "metadata": {},
     "output_type": "execute_result"
    }
   ],
   "source": [
    "#注意下面组合表达式的结果\n",
    "111 in [1,2,3]==False"
   ]
  },
  {
   "cell_type": "markdown",
   "metadata": {},
   "source": [
    "之所以有这样的结果，是因为111 in [1,2,3]==False等效于111 in [1,2,3] and [1,2,3]==False。所以，在编程时，除了类似于a<b<c这样的易于理解的形式，不建议使用组合条件的连写，而是在中间加入and符号，以增强可读性。"
   ]
  },
  {
   "cell_type": "markdown",
   "metadata": {},
   "source": [
    "### 10.1.3 组合数据类型\n",
    "\n",
    "* 组合数据类型包括字符串、元组、列表、集合和字典5种。\n",
    "* 字符串、元组、列表中的元素都是有序号的，可以使用切片；集合和字典中的元素无序号，不能使用切片\n",
    "* 集合中的元素没有重复值；字典中的键不允许重复，若有重复则记录最后进入的值。"
   ]
  },
  {
   "cell_type": "code",
   "execution_count": 14,
   "metadata": {},
   "outputs": [
    {
     "data": {
      "text/plain": [
       "1"
      ]
     },
     "execution_count": 14,
     "metadata": {},
     "output_type": "execute_result"
    }
   ],
   "source": [
    "a=['a','b','c','d','x','y']\n",
    "a.index('b')   #对于字符串则使用 find（）"
   ]
  },
  {
   "cell_type": "markdown",
   "metadata": {},
   "source": [
    "*  5个内置函数str()、tuple()、list()、set()、dict()的使用"
   ]
  },
  {
   "cell_type": "code",
   "execution_count": 15,
   "metadata": {},
   "outputs": [
    {
     "data": {
      "text/plain": [
       "{'A1': 93, 'A2': 85, 'A3': 92, 'A4': 78}"
      ]
     },
     "execution_count": 15,
     "metadata": {},
     "output_type": "execute_result"
    }
   ],
   "source": [
    "b=dict(A1=93,A2=85,A3=92,A4=78)  #生成字典的一种方式\n",
    "b"
   ]
  },
  {
   "cell_type": "code",
   "execution_count": 16,
   "metadata": {},
   "outputs": [
    {
     "data": {
      "text/plain": [
       "{'信', '南', '大', '学', '息', '济', '经', '西', '财', '院'}"
      ]
     },
     "execution_count": 16,
     "metadata": {},
     "output_type": "execute_result"
    }
   ],
   "source": [
    "s1=set('西南财经大学经济信息学院')  #字符串可以转换为集合\n",
    "s1"
   ]
  },
  {
   "cell_type": "markdown",
   "metadata": {},
   "source": [
    "* 组合数据类型的遍历\n",
    "<br>字典和集合中的元素虽然没有序号，但是也可以<font color=red>遍历</font>。使用for...in... 结构来遍历时，字典遍历的是其键。"
   ]
  },
  {
   "cell_type": "code",
   "execution_count": 17,
   "metadata": {},
   "outputs": [
    {
     "name": "stdout",
     "output_type": "stream",
     "text": [
      "A1\n",
      "A2\n",
      "A3\n",
      "A4\n"
     ]
    }
   ],
   "source": [
    "for i  in b:\n",
    "    print(i)"
   ]
  },
  {
   "cell_type": "markdown",
   "metadata": {},
   "source": [
    "若希望遍历字典的值，则使用.values()"
   ]
  },
  {
   "cell_type": "code",
   "execution_count": 18,
   "metadata": {},
   "outputs": [
    {
     "name": "stdout",
     "output_type": "stream",
     "text": [
      "93\n",
      "85\n",
      "92\n",
      "78\n"
     ]
    }
   ],
   "source": [
    "for i in b.values():\n",
    "    print(i)"
   ]
  },
  {
   "cell_type": "markdown",
   "metadata": {},
   "source": [
    "对于这些可以遍历的数据结构，Python还提供了一个内置函数enumerate()，可以同时获得遍历时的顺序号和值。"
   ]
  },
  {
   "cell_type": "code",
   "execution_count": 19,
   "metadata": {},
   "outputs": [
    {
     "name": "stdout",
     "output_type": "stream",
     "text": [
      "0 a 1 b 2 c 3 d 4 x 5 y \n",
      "0 A1 1 A2 2 A3 3 A4 "
     ]
    }
   ],
   "source": [
    "for i,u in enumerate(a):\n",
    "    print(i,u,end=' ')\n",
    "print()\n",
    "for j,v in enumerate(b):\n",
    "    print(j,v,end=' ')"
   ]
  },
  {
   "cell_type": "markdown",
   "metadata": {},
   "source": [
    "同时遍历字典的键和值。例：字典的键和值交换"
   ]
  },
  {
   "cell_type": "code",
   "execution_count": 20,
   "metadata": {},
   "outputs": [
    {
     "name": "stdout",
     "output_type": "stream",
     "text": [
      "{'a': 3, 'b': 4, 'm': 5}\n"
     ]
    }
   ],
   "source": [
    "b={3:'a',4:'b',5:'m'}\n",
    "b_reverse={y:x for x,y in b.items()}\n",
    "print(b_reverse)"
   ]
  },
  {
   "cell_type": "markdown",
   "metadata": {},
   "source": [
    "* 序列赋值\n",
    "<br>这里的序列是指可以迭代的序列。5种组合数据类型均可。"
   ]
  },
  {
   "cell_type": "code",
   "execution_count": 21,
   "metadata": {},
   "outputs": [
    {
     "name": "stdout",
     "output_type": "stream",
     "text": [
      "7 2 3 4\n",
      "<class 'str'>\n"
     ]
    }
   ],
   "source": [
    "q,b,s,g=\"7234\"\n",
    "print(q,b,s,g)\n",
    "print(type(q))"
   ]
  },
  {
   "cell_type": "code",
   "execution_count": 22,
   "metadata": {},
   "outputs": [
    {
     "name": "stdout",
     "output_type": "stream",
     "text": [
      "A1 A2\n"
     ]
    }
   ],
   "source": [
    "x,y={'A1':76,\"A2\":91}\n",
    "print(x,y)"
   ]
  },
  {
   "cell_type": "code",
   "execution_count": 23,
   "metadata": {},
   "outputs": [
    {
     "name": "stdout",
     "output_type": "stream",
     "text": [
      "('A1', 76) ('A2', 91)\n"
     ]
    }
   ],
   "source": [
    "x,y={'A1':76,\"A2\":91}.items()\n",
    "print(x,y)"
   ]
  },
  {
   "cell_type": "markdown",
   "metadata": {},
   "source": [
    "* 如何向这5种组合数据类型中添加元素？元组生成以后，还能够向里面添加新的元素吗？"
   ]
  },
  {
   "cell_type": "code",
   "execution_count": 24,
   "metadata": {},
   "outputs": [
    {
     "data": {
      "text/plain": [
       "{5}"
      ]
     },
     "execution_count": 24,
     "metadata": {},
     "output_type": "execute_result"
    }
   ],
   "source": [
    "# 集合使用的是add()\n",
    "se=set()\n",
    "se.add(5)   #试一下是否支持+=\n",
    "se"
   ]
  },
  {
   "cell_type": "markdown",
   "metadata": {},
   "source": [
    "* 推导式（除开字符串之外的其它4种组合数据类型，均有推导式）"
   ]
  },
  {
   "cell_type": "code",
   "execution_count": 25,
   "metadata": {},
   "outputs": [
    {
     "name": "stdout",
     "output_type": "stream",
     "text": [
      "{81, 90, 92} <generator object <genexpr> at 0x00000227ACE97348>\n"
     ]
    }
   ],
   "source": [
    "lt=[60,90,75,81,73,92,68]\n",
    "a={x for x in lt if x>=80}\n",
    "b=(x for x in lt if x>=80)   #元组推导式生成的是generator object\n",
    "print(a,b)"
   ]
  },
  {
   "cell_type": "code",
   "execution_count": 26,
   "metadata": {},
   "outputs": [
    {
     "data": {
      "text/plain": [
       "(90, 81, 92)"
      ]
     },
     "execution_count": 26,
     "metadata": {},
     "output_type": "execute_result"
    }
   ],
   "source": [
    "tuple(b)"
   ]
  },
  {
   "cell_type": "code",
   "execution_count": 27,
   "metadata": {},
   "outputs": [
    {
     "data": {
      "text/plain": [
       "[]"
      ]
     },
     "execution_count": 27,
     "metadata": {},
     "output_type": "execute_result"
    }
   ],
   "source": [
    "list(b)  # 生成器中的元素只能使用一次。生成了一个实例之后，相当于清空了其中的元素。"
   ]
  },
  {
   "cell_type": "markdown",
   "metadata": {},
   "source": [
    "## 10.2 实例"
   ]
  },
  {
   "cell_type": "markdown",
   "metadata": {},
   "source": [
    "【例1】打印输出一个由50个随机英文小写构成的字符串，并统计：（1）每个字母出现的次数；（2）显示未出现的字母"
   ]
  },
  {
   "cell_type": "code",
   "execution_count": 28,
   "metadata": {
    "scrolled": true
   },
   "outputs": [
    {
     "name": "stdout",
     "output_type": "stream",
     "text": [
      "ryfcuecuvuxjnlzhqnzzkkpbgfczljzfxkwpdshgpopambxsjr\n",
      "\n",
      "包括的字母及出现的次数为：\n",
      "[('a', 1), ('b', 2), ('c', 3), ('d', 1), ('e', 1), ('f', 3), ('g', 2), ('h', 2), ('j', 3), ('k', 3), ('l', 2), ('m', 1), ('n', 2), ('o', 1), ('p', 4), ('q', 1), ('r', 2), ('s', 2), ('u', 3), ('v', 1), ('w', 1), ('x', 3), ('y', 1), ('z', 5)]\n",
      "\n",
      "未出现的字母包括：\n",
      "{'t', 'i'}\n"
     ]
    }
   ],
   "source": [
    "import random\n",
    "import string\n",
    "a=string.ascii_lowercase\n",
    "s=''\n",
    "sD={}  #sD是用来保存字母及其出现次数的字典\n",
    "for i in range(50):\n",
    "    c=random.choice(a)\n",
    "    s+=c\n",
    "    sD[c]=sD.get(c,0)+1\n",
    "sL=sorted(list(sD.items()),key=lambda x:x[0]) \n",
    "\n",
    "notS=set(a)-{x[0] for x in sL}  #集合相减，得到未出现字母的集合\n",
    "\n",
    "print(s)\n",
    "print()\n",
    "print('包括的字母及出现的次数为：')\n",
    "print(sL)\n",
    "print()\n",
    "print('未出现的字母包括：')\n",
    "print(notS)"
   ]
  },
  {
   "cell_type": "markdown",
   "metadata": {},
   "source": [
    "【例2】有以下集合nums = {2,7,5,3,1,8,4}，请找到并打印集合中任意相加等于9的元素集合，如：{(2,7), (1,8)}"
   ]
  },
  {
   "cell_type": "code",
   "execution_count": 29,
   "metadata": {},
   "outputs": [
    {
     "name": "stdout",
     "output_type": "stream",
     "text": [
      "[1, 2, 3, 4, 5, 7, 8]\n",
      "[(1, 8), (2, 7), (4, 5)]\n"
     ]
    }
   ],
   "source": [
    "nums = {2,7,5,3,1,8,4}\n",
    "Lnums=list(nums)# 转换为列表以便使用切片\n",
    "print(Lnums)\n",
    "length=len(Lnums)\n",
    "L9=[]\n",
    "for i in range(length):\n",
    "    for j in range(i+1,length):\n",
    "        if Lnums[i]+Lnums[j]==9:\n",
    "            L9.append((Lnums[i],Lnums[j]))\n",
    "print(L9)           "
   ]
  },
  {
   "cell_type": "markdown",
   "metadata": {},
   "source": [
    "【例3】斐波拉契数列<br>\n",
    "斐波那契数列（Fibonacci sequence），又称黄金分割数列、因数学家列昂纳多·斐波那契（Leonardoda Fibonacci）。以兔子繁殖为例子而引入，故又称为“兔子数列”，指的是这样一个数列：1、1、2、3、5、8、13、21、34、……<br>\n",
    "在数学上，斐波纳契数列以如下被以递推的方法定义：F(1)=1，F(2)=1, F(n)=F(n-1)+F(n-2)（n>=3，n∈N*）<br>\n",
    "这个数列从第3项开始，每一项都等于前两项之和。\n",
    "\n",
    "* 可以用递归来生成斐波拉契数列，但是一旦n比较大，速度将非常慢，因为递归方法每生成数列中的一项，都要从基例开始计算，计算量很大。下面，使用组合数据类型，来生成斐波拉契数列。\n",
    "* 在下面的代码中，使用字典数据类型，来生成斐波拉契数列的前30项。"
   ]
  },
  {
   "cell_type": "code",
   "execution_count": 30,
   "metadata": {},
   "outputs": [
    {
     "name": "stdout",
     "output_type": "stream",
     "text": [
      "0  1  1  2  3  5  8  13  21  34  55  89  144  233  377  610  987  1597  2584  4181  6765  10946  17711  28657  46368  75025  121393  196418  317811  514229  "
     ]
    }
   ],
   "source": [
    "d={0:0,1:1}\n",
    "for i in range(2,30):\n",
    "    d[i]=d[i-1]+d[i-2]\n",
    "for j in range(30):\n",
    "    print(d[j],end='  ')"
   ]
  },
  {
   "cell_type": "markdown",
   "metadata": {},
   "source": [
    "## 10.3 Jupyter Notebook的使用\n",
    "\n",
    "见QQ群第10周学习资料，同时参见腾讯课堂的回放"
   ]
  },
  {
   "attachments": {
    "2020-04-22_095305.png": {
     "image/png": "[encoded data removed]"
    }
   },
   "cell_type": "markdown",
   "metadata": {},
   "source": [
    "## 10.4 练习与作业\n",
    "\n",
    "\n",
    "1.检查前面用列表来写的一些程序（比如第6周的账号与密码、第7周的背单词），是否可以使用其它的组合数据类型（比如字典）来更简洁地编写？若能，写出代码进行实践。<br>\n",
    "\n",
    "2.帕多瓦数列:1,1,1,2,2,3,4,5,7,9,12,16，21,28......从第四项开始，第i项等于第i-2项和第i-3项之 和，假如数列为a，即a(i)=a(i-2)+a(i-3)。<br>（1）使用组合数据类型方法，打印输出帕多瓦数列的前30项（每项之间用空格隔开）；（2）计算1+1+1+2+2+....+a(n)<=10000的最大的n值。\n",
    "\n",
    "3.编写程序，接收用户输入的一行由分号“;”分隔的若干个整数，计算这些数的平均数，并且统计有多少个数大于平均数，多少个数小于平均数。<br>\n",
    "\n",
    "4.下图左边的数据是A600839股票近7年的年末数据收盘价。根据数据，计算A600839股票的年收益率并按照下图右边的形式打印输出。年收益率=（下一年收盘价-上一年收盘价）/上一年收盘价。提示：参阅字符串的format()方法，设置打印格式<br>\n",
    "![2020-04-22_095305.png](attachment:2020-04-22_095305.png)"
   ]
  },
  {
   "cell_type": "code",
   "execution_count": null,
   "metadata": {},
   "outputs": [],
   "source": []
  },
  {
   "cell_type": "code",
   "execution_count": null,
   "metadata": {},
   "outputs": [],
   "source": []
  },
  {
   "cell_type": "code",
   "execution_count": null,
   "metadata": {},
   "outputs": [],
   "source": []
  }
 ],
 "metadata": {
  "kernelspec": {
   "display_name": "Python 3",
   "language": "python",
   "name": "python3"
  },
  "language_info": {
   "codemirror_mode": {
    "name": "ipython",
    "version": 3
   },
   "file_extension": ".py",
   "mimetype": "text/x-python",
   "name": "python",
   "nbconvert_exporter": "python",
   "pygments_lexer": "ipython3",
   "version": "3.7.4"
  }
 },
 "nbformat": 4,
 "nbformat_minor": 4
}
