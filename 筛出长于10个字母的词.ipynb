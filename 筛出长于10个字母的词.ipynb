{
 "cells": [
  {
   "cell_type": "code",
   "execution_count": 26,
   "metadata": {
    "scrolled": true
   },
   "outputs": [],
   "source": [
    "f1=open('alice.txt','r+')\n",
    "f2=open('a11.txt','w+')\n",
    "text=f1.read()\n",
    "text=text.lower()\n",
    "for i in \"`1234567890-=~!@#$%^&*()_+[]\\;'\"\",.<>?/:\":\n",
    "    text=text.replace(i,' ')\n",
    "    text=text.replace('\\n',' ')\n",
    "context=text.split(' ')\n",
    "context=list(set(context))\n",
    "cache=[]\n",
    "a=0\n",
    "for i in context:\n",
    "    if len(i)>10:\n",
    "        cache.append(i)\n",
    "for i in cache:\n",
    "    i.replace('\\n','')\n",
    "b=''\n",
    "for i in cache:\n",
    "    b+=i+'\\n'\n",
    "f2.write(b)\n",
    "f1.close()\n",
    "f2.close()"
   ]
  },
  {
   "cell_type": "code",
   "execution_count": null,
   "metadata": {},
   "outputs": [],
   "source": []
  },
  {
   "cell_type": "code",
   "execution_count": null,
   "metadata": {},
   "outputs": [],
   "source": []
  },
  {
   "cell_type": "code",
   "execution_count": null,
   "metadata": {},
   "outputs": [],
   "source": []
  }
 ],
 "metadata": {
  "kernelspec": {
   "display_name": "Python 3",
   "language": "python",
   "name": "python3"
  },
  "language_info": {
   "codemirror_mode": {
    "name": "ipython",
    "version": 3
   },
   "file_extension": ".py",
   "mimetype": "text/x-python",
   "name": "python",
   "nbconvert_exporter": "python",
   "pygments_lexer": "ipython3",
   "version": "3.7.4"
  }
 },
 "nbformat": 4,
 "nbformat_minor": 2
}
