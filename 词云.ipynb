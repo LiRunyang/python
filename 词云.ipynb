{
 "cells": [
  {
   "cell_type": "code",
   "execution_count": 12,
   "metadata": {
    "scrolled": true
   },
   "outputs": [
    {
     "data": {
      "text/plain": [
       "<wordcloud.wordcloud.WordCloud at 0x2aa1995c688>"
      ]
     },
     "execution_count": 12,
     "metadata": {},
     "output_type": "execute_result"
    }
   ],
   "source": [
    "from wordcloud import WordCloud\n",
    "from jieba import cut\n",
    "with open('2019年政府工作报告.txt',encoding='ANSI') as f:\n",
    "          txt=f.read()\n",
    "temp=cut(txt)\n",
    "gov=\"\".join(temp)\n",
    "font='C:\\Windows\\Fonts\\msjh.ttc'\n",
    "pic=WordCloud(width=1920,height=1080,font_path=font,max_font_size=200,min_font_size=20,background_color='red').generate(gov)\n",
    "pic.to_file('adisc.png')"
   ]
  },
  {
   "cell_type": "code",
   "execution_count": null,
   "metadata": {},
   "outputs": [],
   "source": []
  }
 ],
 "metadata": {
  "kernelspec": {
   "display_name": "Python 3",
   "language": "python",
   "name": "python3"
  },
  "language_info": {
   "codemirror_mode": {
    "name": "ipython",
    "version": 3
   },
   "file_extension": ".py",
   "mimetype": "text/x-python",
   "name": "python",
   "nbconvert_exporter": "python",
   "pygments_lexer": "ipython3",
   "version": "3.7.4"
  }
 },
 "nbformat": 4,
 "nbformat_minor": 2
}
