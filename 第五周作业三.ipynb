{
 "cells": [
  {
   "cell_type": "code",
   "execution_count": 5,
   "metadata": {},
   "outputs": [
    {
     "name": "stdout",
     "output_type": "stream",
     "text": [
      "A17的数学成绩最高\n",
      "2人数学成绩大于等于90\n",
      "请输入ID:A13\n",
      "成绩为:89\n",
      "平均成绩=80.4\n"
     ]
    }
   ],
   "source": [
    "ID=['A10','A13','A15','A16','A17','A20','A21','A22','A23']\n",
    "math=[85,89,56,76,93,92,69,79,85]\n",
    "mID=ID[math.index(max(math))]\n",
    "print(\"{}的数学成绩最高\".format(mID))\n",
    "\n",
    "g=()\n",
    "u=0\n",
    "for g in math:\n",
    "    if int(g)>=90:\n",
    "        u+=1\n",
    "print(\"{}人数学成绩大于等于90\".format(u))\n",
    "\n",
    "id=input(\"请输入ID:\")\n",
    "if id in ID:\n",
    "    a=ID.index(id)\n",
    "    print(\"成绩为:{}\".format(math[a]))\n",
    "else:\n",
    "    print(\"无此学生\")\n",
    "\n",
    "print('平均成绩={:.1f}'.format(sum(math)/len(math)))"
   ]
  },
  {
   "cell_type": "code",
   "execution_count": null,
   "metadata": {},
   "outputs": [],
   "source": []
  }
 ],
 "metadata": {
  "kernelspec": {
   "display_name": "Python 3",
   "language": "python",
   "name": "python3"
  },
  "language_info": {
   "codemirror_mode": {
    "name": "ipython",
    "version": 3
   },
   "file_extension": ".py",
   "mimetype": "text/x-python",
   "name": "python",
   "nbconvert_exporter": "python",
   "pygments_lexer": "ipython3",
   "version": "3.7.4"
  }
 },
 "nbformat": 4,
 "nbformat_minor": 2
}
