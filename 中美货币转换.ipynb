{
 "cells": [
  {
   "cell_type": "code",
   "execution_count": 1,
   "metadata": {},
   "outputs": [
    {
     "name": "stdout",
     "output_type": "stream",
     "text": [
      "请输入您的目标货币:（人民币为CNY,美元为USD）usd\n",
      "请输入今日汇率7\n",
      "请输入金额1000\n",
      "7000\n"
     ]
    }
   ],
   "source": [
    "currency=input('请输入您的目标货币:（人民币为CNY,美元为USD）')\n",
    "exchange_rate=input('请输入今日汇率')\n",
    "if currency=='usd':\n",
    "    amount=int((input('请输入金额')))\n",
    "    print(amount*int(exchange_rate))\n",
    "else:\n",
    "    amount=int((input('请输入金额')))\n",
    "    print(amount/int(exchange_rate))"
   ]
  },
  {
   "cell_type": "code",
   "execution_count": null,
   "metadata": {},
   "outputs": [],
   "source": []
  }
 ],
 "metadata": {
  "kernelspec": {
   "display_name": "Python 3",
   "language": "python",
   "name": "python3"
  },
  "language_info": {
   "codemirror_mode": {
    "name": "ipython",
    "version": 3
   },
   "file_extension": ".py",
   "mimetype": "text/x-python",
   "name": "python",
   "nbconvert_exporter": "python",
   "pygments_lexer": "ipython3",
   "version": "3.7.4"
  }
 },
 "nbformat": 4,
 "nbformat_minor": 2
}
