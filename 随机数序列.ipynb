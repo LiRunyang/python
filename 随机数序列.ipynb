{
 "cells": [
  {
   "cell_type": "code",
   "execution_count": 2,
   "metadata": {},
   "outputs": [
    {
     "name": "stdout",
     "output_type": "stream",
     "text": [
      "\n",
      "\n",
      "\n",
      "#3\n",
      "随机数序列为：\n",
      "[349, 205, 126, 241, 348, 34, 17, 279, 228, 203, 166, 256, 147, 218, 88, 243, 75, 270, 11, 183, 142, 25, 187, 270]\n",
      "随机数的个数为：24\n"
     ]
    }
   ],
   "source": [
    "print(\"\\n\\n\\n#3\")\n",
    "import random\n",
    "list=[]\n",
    "sui=0\n",
    "s=0\n",
    "while True:\n",
    "    sui=random.randint(1,365)\n",
    "    list.append(sui)\n",
    "    for i in range(len(list)-1):\n",
    "        if sui==list[i]:\n",
    "            s+=1\n",
    "    if s!=0:\n",
    "        break\n",
    "print(\"随机数序列为：\")\n",
    "print(list)\n",
    "print(\"随机数的个数为：\"+str(len(list)))"
   ]
  },
  {
   "cell_type": "code",
   "execution_count": null,
   "metadata": {},
   "outputs": [],
   "source": []
  }
 ],
 "metadata": {
  "kernelspec": {
   "display_name": "Python 3",
   "language": "python",
   "name": "python3"
  },
  "language_info": {
   "codemirror_mode": {
    "name": "ipython",
    "version": 3
   },
   "file_extension": ".py",
   "mimetype": "text/x-python",
   "name": "python",
   "nbconvert_exporter": "python",
   "pygments_lexer": "ipython3",
   "version": "3.7.4"
  }
 },
 "nbformat": 4,
 "nbformat_minor": 2
}
