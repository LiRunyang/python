{
 "cells": [
  {
   "cell_type": "code",
   "execution_count": null,
   "metadata": {},
   "outputs": [],
   "source": [
    "f1=open('人员信息.txt','r',encoding='UTF-8')\n",
    "text=f1.read()\n",
    "f2=open('a11.txt','w')\n",
    "context=text.split('，')\n",
    "a=[]\n",
    "#print(context)\n",
    "for i in context:\n",
    "    str=''\n",
    "    for j in i:\n",
    "        if j in '0123456789':\n",
    "            str+=j\n",
    "    a.append(str)\n",
    "#print(a)\n",
    "for i in a:\n",
    "    if len(i)!=11:\n",
    "        a.remove(i)\n",
    "b=''\n",
    "for i in a:\n",
    "    b+=i+'\\n'\n",
    "f2.write(b)\n",
    "f1.close()\n",
    "f2.close()"
   ]
  }
 ],
 "metadata": {
  "kernelspec": {
   "display_name": "Python 3",
   "language": "python",
   "name": "python3"
  },
  "language_info": {
   "codemirror_mode": {
    "name": "ipython",
    "version": 3
   },
   "file_extension": ".py",
   "mimetype": "text/x-python",
   "name": "python",
   "nbconvert_exporter": "python",
   "pygments_lexer": "ipython3",
   "version": "3.7.4"
  }
 },
 "nbformat": 4,
 "nbformat_minor": 2
}
