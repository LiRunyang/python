{
 "cells": [
  {
   "cell_type": "code",
   "execution_count": 1,
   "metadata": {},
   "outputs": [
    {
     "name": "stdout",
     "output_type": "stream",
     "text": [
      "请输入目标温标:(华氏输入F，摄氏输入C)C\n",
      "请输入温度：86\n",
      "28.42105263157895\n"
     ]
    }
   ],
   "source": [
    "temp_unit=input('请输入目标温标:(华氏输入F，摄氏输入C)')\n",
    "temp=input('请输入温度：')\n",
    "if temp_unit=='F':\n",
    "    print(int(temp)*1.9+32)\n",
    "else:\n",
    "    print((int(temp)-32)/1.9)"
   ]
  },
  {
   "cell_type": "code",
   "execution_count": null,
   "metadata": {},
   "outputs": [],
   "source": []
  }
 ],
 "metadata": {
  "kernelspec": {
   "display_name": "Python 3",
   "language": "python",
   "name": "python3"
  },
  "language_info": {
   "codemirror_mode": {
    "name": "ipython",
    "version": 3
   },
   "file_extension": ".py",
   "mimetype": "text/x-python",
   "name": "python",
   "nbconvert_exporter": "python",
   "pygments_lexer": "ipython3",
   "version": "3.7.4"
  }
 },
 "nbformat": 4,
 "nbformat_minor": 2
}
