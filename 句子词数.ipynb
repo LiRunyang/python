{
 "cells": [
  {
   "cell_type": "code",
   "execution_count": null,
   "metadata": {},
   "outputs": [],
   "source": [
    "sent=input()\n",
    "#单词数\n",
    "space=0\n",
    "for i in sent:\n",
    "    if i==\" \":\n",
    "        space+=1\n",
    "space+=1\n",
    "print(\"句子的长度是{}\".format(space))  \n",
    "for i in '<>?:\"{}|!@#$%^&*()_+~`123456,.78/90-=[]\\;':\n",
    "    sent=sent.replace(i,'')\n",
    "l=sent.split()\n",
    "print(len(l))"
   ]
  },
  {
   "cell_type": "code",
   "execution_count": null,
   "metadata": {},
   "outputs": [],
   "source": []
  },
  {
   "cell_type": "code",
   "execution_count": null,
   "metadata": {},
   "outputs": [],
   "source": []
  }
 ],
 "metadata": {
  "kernelspec": {
   "display_name": "Python 3",
   "language": "python",
   "name": "python3"
  },
  "language_info": {
   "codemirror_mode": {
    "name": "ipython",
    "version": 3
   },
   "file_extension": ".py",
   "mimetype": "text/x-python",
   "name": "python",
   "nbconvert_exporter": "python",
   "pygments_lexer": "ipython3",
   "version": "3.7.4"
  }
 },
 "nbformat": 4,
 "nbformat_minor": 2
}
