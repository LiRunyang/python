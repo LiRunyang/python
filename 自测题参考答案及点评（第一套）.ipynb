{
 "cells": [
  {
   "cell_type": "markdown",
   "metadata": {},
   "source": [
    "* 更多的关于基础部分的程序设计题目，可参见下面的链接（其中关于turtle库的内容我们不要求）\n",
    "<br>\n",
    "【练习集1】\n",
    "https://blog.csdn.net/weixin_41084236/article/details/81564963?utm_medium=distribute.pc_relevant.none-task-blog-BlogCommendFromBaidu-3&depth_1-utm_source=distribute.pc_relevant.none-task-blog-BlogCommendFromBaidu-3\n",
    "<br>\n",
    "【练习集2】\n",
    "https://www.runoob.com/python3/python3-examples.html"
   ]
  },
  {
   "cell_type": "markdown",
   "metadata": {},
   "source": [
    "* 一、单项选择题(每题1分，共10分):DADDACCCDA"
   ]
  },
  {
   "cell_type": "markdown",
   "metadata": {},
   "source": [
    "3.下面代码的输出结构是："
   ]
  },
  {
   "cell_type": "code",
   "execution_count": 1,
   "metadata": {},
   "outputs": [
    {
     "name": "stdout",
     "output_type": "stream",
     "text": [
      "d"
     ]
    }
   ],
   "source": [
    "for s in \"HelloWorld\":\n",
    "    if s==\"W\":\n",
    "        continue\n",
    "print(s,end=\"\")    #print()没有缩进，所以是在循环结束之后再打印。"
   ]
  },
  {
   "cell_type": "markdown",
   "metadata": {},
   "source": [
    "* 二、填空题(每题2分，共10分) \n",
    "<br>1.a,b  return\n",
    "<br>2.('score.txt','x+’)   except:  (关于文件的打开模式，见教材的P183)\n",
    "<br>3.顺序结构,分支,循环\n",
    "<br>4.def\n",
    "<br>5.字符串、文件、组合数据类型或者range函数等"
   ]
  },
  {
   "cell_type": "markdown",
   "metadata": {},
   "source": [
    "* 三、判断对错题(每题2分，共10分) \n",
    "<br>1.Ⅹ\n",
    "<br>2.Ⅹ   x=((3**4+5*(6**7))/8)**1/2 最后的1/2应该加括号，即（1/2）\n",
    "<br>3.√\n",
    "<br>4.Ⅹ\n",
    "<br>5.√\n"
   ]
  },
  {
   "cell_type": "markdown",
   "metadata": {},
   "source": [
    "* 四、读程序写出正确的输出结果（共10分）\n",
    "<br>1.2357\n",
    "<br>2.13\n",
    "<br>3.{1:“aa”,2:“bb”,3:“cc”}"
   ]
  },
  {
   "cell_type": "code",
   "execution_count": 2,
   "metadata": {},
   "outputs": [
    {
     "name": "stdout",
     "output_type": "stream",
     "text": [
      "1 2\n",
      "2 3\n",
      "3 5\n",
      "5 8\n",
      "8 13\n",
      "13 21\n",
      "13\n"
     ]
    }
   ],
   "source": [
    "#第2小题\n",
    "def fib(n):\n",
    "    a,b = 1,1\n",
    "    for i in range(n-1):  #参数n=7,则range(6),循环6次\n",
    "        a,b = b,a+b  #同步赋值语句，右边的a,b为原来的a和b,第一次循环时，原来的a、b均为1，赋值之后的a为1，b为2\n",
    "        print(a,b) #添加了一句，帮助大家理解。做题时，则可以将中间结果写在草稿纸上\n",
    "    return a\n",
    "print(fib(7))"
   ]
  },
  {
   "cell_type": "markdown",
   "metadata": {},
   "source": [
    "* 五、简答题(每题5分，共10分)\n",
    "<br>1.可以举例说明，比如我们学过的jieba、wordcloud等\n",
    "<br>2.集合类型是一个元素的集合，元素之间无序，元素在集合内必须唯一；序列类型是一个元素向量，元素之间存在先后顺序，通过序号(下标)访问，元素可以重复。包括字符串、元祖、列表等都是序列类型；映射类型就是键值对的组合，表示为(key,value)，字典就是典型的映射类型。"
   ]
  },
  {
   "cell_type": "markdown",
   "metadata": {},
   "source": [
    "* 六、编程设计题(共50分)"
   ]
  },
  {
   "cell_type": "markdown",
   "metadata": {},
   "source": [
    "1.现在有个列表变量ls=[87,55,96,21,34,19,99]，请输入一个正整数m。编写函数MediaSort，该函数将列表中小于等于m的数放在列表左侧，将列表中大于m的数放在列表右侧，并将排序后的结果以一个新列表返回。例如输入m=30，函数返回列表[21，19，87，55，96，34，99]。注意函数不能影响原来的列表的次序。程序调用这个函数并显示结果。(12分)"
   ]
  },
  {
   "cell_type": "code",
   "execution_count": 3,
   "metadata": {},
   "outputs": [
    {
     "name": "stdout",
     "output_type": "stream",
     "text": [
      "40\n",
      "[21, 34, 19, 87, 55, 96, 99]\n"
     ]
    }
   ],
   "source": [
    "ls=[87,55,96,21,34,19,99]\n",
    "def MediaSort(m):\n",
    "    left=[]\n",
    "    right=[]  #注意不能写成left=right=[],否则left和right会同步变化\n",
    "    for i in ls:\n",
    "        if i<=m:\n",
    "            left.append(i)\n",
    "        else:\n",
    "            right.append(i)\n",
    "    return left+right\n",
    "a=eval(input())\n",
    "print(MediaSort(a))"
   ]
  },
  {
   "cell_type": "markdown",
   "metadata": {},
   "source": [
    "2.编写代码实现如下功能：\n",
    "1)建立字典d，包含内容是：“数学”:101、“语文”:202、“英语”:203、“物理”:204、“生物”:206。\n",
    "2)向字典添加键值对“化学”:205。\n",
    "3)修改“数学”对应的值为201。\n",
    "4)删除“生物”对应的键值对。\n",
    "5)显示字典d全部信息（一个键值对占一行，先值后键，参见原题的格式要求）"
   ]
  },
  {
   "cell_type": "code",
   "execution_count": 4,
   "metadata": {},
   "outputs": [
    {
     "name": "stdout",
     "output_type": "stream",
     "text": [
      "201:数学\n",
      "202:语文\n",
      "203:英语\n",
      "204:物理\n",
      "205:化学\n"
     ]
    }
   ],
   "source": [
    "d={\"数学\":101,\"语文\":202,\"英语\":203,\"物理\":204,\"生物\":206}\n",
    "d[\"化学\"]=205\n",
    "d[\"数学\"]=201\n",
    "del d[\"生物\"]\n",
    "for key in d:   #注意字典的遍历！\n",
    "    print(\"{}:{}\".format(d[key],key))"
   ]
  },
  {
   "cell_type": "markdown",
   "metadata": {},
   "source": [
    "3. 见第6周的作业与练习点评文件。"
   ]
  },
  {
   "cell_type": "markdown",
   "metadata": {},
   "source": [
    "4. 请编写程序，利用random库，实现以下要求：（1）生成一个随机密码，长度固定为10个字符，字符可能是26个小写字母，也可能是10个数字，也可能是!@#$%^&*8个特殊符号。同时，随机密码的字符中，至少有一个字符是小写字母，且至少有一个字符是数字，且至少有一个字符是特殊符号。\n",
    "（2）按照上述要求，生成10个密码。这10个密码的首字符不能相同。将生成后的10个密码逐行保存在文件“randpasswd.txt”中。\n",
    "<br>下面是参考答案，同时参见第7周的学习引导文件。注意，此题比较复杂，下面的做法虽然解决了大部分问题，但实际<font color=red>还有小问题</font>。\n",
    "<br>思路：1）使用sample()函数，从可用符号中随机取出不重复的10个，作为首字符的备选；2）使用循环结构来生成10个密码；3）使用 choice()函数，从小写字母、数字、特殊符号中各取一个数，使用列表推导式生成6个可选符号的列表。这样，就可以连接生成一个9个元素的列表，再将这个列表使用shuffle()打乱顺序；4）首字符连接shuffle()后的列表，就可以得到符合条件的密码符号构成的列表，再使用join连接为字符串；5）将每个密码，采用追加的模式，写入到文件中。"
   ]
  },
  {
   "cell_type": "code",
   "execution_count": 6,
   "metadata": {},
   "outputs": [
    {
     "name": "stdout",
     "output_type": "stream",
     "text": [
      "over\n",
      "BBB\n",
      "235\n",
      "B74\n",
      "301\n",
      "940\n",
      "71A\n",
      "AAB\n",
      "B12\n",
      "36B\n",
      "801\n",
      "923\n",
      "150\n",
      "5A8\n",
      "004\n",
      "184\n",
      "8A7\n",
      "8A5\n",
      "646\n",
      "774\n",
      "0B2\n",
      "28A\n",
      "172\n",
      "674\n",
      "559\n",
      "231\n",
      "911\n",
      "082\n",
      "534\n",
      "815\n",
      "134\n",
      "285\n",
      "A86\n",
      "A57\n",
      "B45\n",
      "141\n",
      "862\n",
      "209\n",
      "182\n",
      "18A\n",
      "645\n",
      "B54\n",
      "179\n",
      "4A0\n",
      "407\n",
      "702\n",
      "97B\n",
      "474\n",
      "228\n",
      "2B2\n",
      "5B1\n",
      "788\n",
      "B87\n",
      "799\n",
      "132\n",
      "1B1\n",
      "BA4\n",
      "08B\n",
      "613\n",
      "829\n",
      "022\n",
      "87B\n",
      "472\n",
      "425\n",
      "941\n",
      "872\n",
      "8B6\n",
      "405\n",
      "222\n",
      "7B0\n",
      "511\n",
      "784\n",
      "84B\n",
      "458\n",
      "189\n",
      "A76\n",
      "481\n",
      "116\n",
      "126\n",
      "690\n",
      "769\n",
      "B67\n",
      "261\n",
      "729\n",
      "394\n",
      "042\n",
      "442\n",
      "962\n",
      "631\n",
      "286\n",
      "708\n",
      "927\n",
      "587\n",
      "167\n",
      "354\n",
      "B57\n",
      "196\n",
      "229\n",
      "538\n",
      "686\n",
      "56B\n",
      "763\n",
      "221\n",
      "698\n",
      "B22\n",
      "734\n",
      "890\n",
      "365\n",
      "A00\n",
      "949\n",
      "265\n",
      "104\n",
      "342\n",
      "015\n",
      "730\n",
      "7B8\n",
      "654\n",
      "666\n",
      "B5B\n",
      "605\n",
      "0A8\n",
      "1A3\n",
      "089\n",
      "208\n",
      "814\n",
      "832\n",
      "74B\n",
      "714\n",
      "032\n",
      "673\n",
      "A4A\n",
      "127\n",
      "271\n",
      "00A\n",
      "983\n",
      "77A\n",
      "41B\n",
      "AA9\n",
      "469\n",
      "142\n",
      "A02\n",
      "383\n",
      "834\n",
      "445\n",
      "256\n",
      "A41\n",
      "541\n",
      "540\n",
      "9A6\n",
      "A0B\n",
      "112\n",
      "BA1\n",
      "907\n",
      "55A\n",
      "1A7\n",
      "879\n",
      "1A4\n",
      "05A\n",
      "408\n",
      "200\n",
      "994\n",
      "268\n",
      "01A\n",
      "B89\n",
      "95A\n",
      "566\n",
      "27B\n",
      "750\n",
      "637\n",
      "030\n",
      "429\n",
      "546\n",
      "A81\n",
      "34B\n",
      "A0A\n",
      "562\n",
      "AB5\n",
      "324\n",
      "0B1\n",
      "61A\n",
      "652\n",
      "390\n",
      "866\n",
      "B0B\n",
      "A10\n",
      "267\n",
      "079\n",
      "096\n",
      "2A5\n",
      "A31\n",
      "512\n",
      "AB2\n",
      "305\n",
      "761\n",
      "A27\n",
      "340\n",
      "607\n",
      "3A7\n",
      "531\n",
      "B32\n",
      "9A9\n"
     ]
    }
   ],
   "source": [
    "import random\n",
    "import string\n",
    "s=string.ascii_lowercase+string.digits+'!@#$%^&*'\n",
    "first=random.sample(s,10)  #任意取10个符号，作为首字母的备选\n",
    "for i in range(10):\n",
    "    if first[i] in string.digits:\n",
    "        c1=random.choice('!@#$%^&*')\n",
    "        c2=random.choice(string.ascii_lowercase)\n",
    "        \n",
    "    if first[i] in string.ascii_lowercase:\n",
    "        c1=random.choice('!@#$%^&*')\n",
    "        c2=random.choice(string.digits)\n",
    "    if first[i] in '!@#$%^&*':\n",
    "        c1=random.choice(string.digits)\n",
    "        c2=random.choice(string.ascii_lowercase)\n",
    "    c3='!@#$%^&*'\n",
    "    c4=[random.choice(s) for y in range(6)]  #因为允许重复，所以不能使用sample()来选取其余的6个符号\n",
    "    lt=[c1,c2,c3]+c4\n",
    "    random.shuffle(lt)\n",
    "    pw=''.join([first[i]]+lt)\n",
    "    with open('randpasswd.txt','a') as f:\n",
    "        f.write(pw+'\\n')  #加入换行转义符\\n\n",
    "print('over')  #非必须，但是由于程序中没有打印输出，故最好加上此句以显示程序已经执行完毕。"
   ]
  },
  {
   "cell_type": "markdown",
   "metadata": {},
   "source": [
    "此例中的从一个列表中选择若干个可以重复的符号，也可以使用random库中的函数choices()，但教材上没有将此函数列出，所以我们使用了列表推导式。choices()函数的简单用法如下："
   ]
  },
  {
   "cell_type": "code",
   "execution_count": 6,
   "metadata": {},
   "outputs": [
    {
     "data": {
      "text/plain": [
       "[5, 1, 2, 4]"
      ]
     },
     "execution_count": 6,
     "metadata": {},
     "output_type": "execute_result"
    }
   ],
   "source": [
    "random.choices([1,2,3,4,5,6],k=4)"
   ]
  },
  {
   "cell_type": "markdown",
   "metadata": {},
   "source": [
    "前面说到，此题的解决实际上还有小问题。因为如果首字符为数字，那么后面的字符中，就不必再有数字了。那么，应该如何解决此问题呢？我们将此问题留为作业。"
   ]
  },
  {
   "cell_type": "markdown",
   "metadata": {},
   "source": [
    "## 作业"
   ]
  },
  {
   "cell_type": "markdown",
   "metadata": {},
   "source": [
    "第1题：在前面程序的基础上，完善程序设计第4小题。\n",
    "<br>提示：在循环中加入分支结构。若密码的首字符是小写字母，则在shuffle之前的lt中，第一个和第二个元素为数字和特殊符号；若密码的首字符是数字，则在shuffle之前的lt中，第一个和第二个元素为小写字母和特殊符号；......\n",
    "<br>\n",
    "<br>第2题：设计程序，生成200个互不相同的3位验证码。要求：（1）从9个数字和A、B两个大写字母中，取3个符号构建验证码（其中的符号允许重复，比如22A、B22、333）；（2）验证码之间不允许有相同的（验证码的构成符号可以有重复）；（3）打印输出这200个验证码。"
   ]
  },
  {
   "cell_type": "markdown",
   "metadata": {},
   "source": [
    "**错误之处，敬请指出**\n",
    "<br>----end-----"
   ]
  }
 ],
 "metadata": {
  "kernelspec": {
   "display_name": "Python 3",
   "language": "python",
   "name": "python3"
  },
  "language_info": {
   "codemirror_mode": {
    "name": "ipython",
    "version": 3
   },
   "file_extension": ".py",
   "mimetype": "text/x-python",
   "name": "python",
   "nbconvert_exporter": "python",
   "pygments_lexer": "ipython3",
   "version": "3.7.4"
  }
 },
 "nbformat": 4,
 "nbformat_minor": 4
}
